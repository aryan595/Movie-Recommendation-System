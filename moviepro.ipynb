{
 "cells": [
  {
   "cell_type": "code",
   "execution_count": 4,
   "id": "a26037a6-808e-47ad-b2c8-d5776807ebbd",
   "metadata": {},
   "outputs": [
    {
     "name": "stdout",
     "output_type": "stream",
     "text": [
      "Movies DataFrame:\n",
      "   movieId                               title  \\\n",
      "0        1                    Toy Story (1995)   \n",
      "1        2                      Jumanji (1995)   \n",
      "2        3             Grumpier Old Men (1995)   \n",
      "3        4            Waiting to Exhale (1995)   \n",
      "4        5  Father of the Bride Part II (1995)   \n",
      "\n",
      "                                        genres  \n",
      "0  Adventure|Animation|Children|Comedy|Fantasy  \n",
      "1                   Adventure|Children|Fantasy  \n",
      "2                               Comedy|Romance  \n",
      "3                         Comedy|Drama|Romance  \n",
      "4                                       Comedy  \n",
      "\n",
      "Ratings DataFrame:\n",
      "   userId  movieId  rating  timestamp\n",
      "0       1        1     4.0  964982703\n",
      "1       1        3     4.0  964981247\n",
      "2       1        6     4.0  964982224\n",
      "3       1       47     5.0  964983815\n",
      "4       1       50     5.0  964982931\n"
     ]
    }
   ],
   "source": [
    "# Import the pandas library, our tool for working with data tables\n",
    "import pandas as pd\n",
    "\n",
    "# Load the movies and ratings datasets\n",
    "movies_df = pd.read_csv('ml-latest-small/movies.csv')\n",
    "ratings_df = pd.read_csv('ml-latest-small/ratings.csv')\n",
    "\n",
    "# Let's take a peek at the first few rows of each file to see what they look like\n",
    "print(\"Movies DataFrame:\")\n",
    "print(movies_df.head())\n",
    "\n",
    "print(\"\\nRatings DataFrame:\")\n",
    "print(ratings_df.head())"
   ]
  },
  {
   "cell_type": "code",
   "execution_count": null,
   "id": "cc616576-757f-445c-b268-45727d70a11b",
   "metadata": {},
   "outputs": [
    {
     "name": "stdout",
     "output_type": "stream",
     "text": [
      "Movies Table:\n",
      "   movieId                               title  \\\n",
      "0        1                    Toy Story (1995)   \n",
      "1        2                      Jumanji (1995)   \n",
      "2        3             Grumpier Old Men (1995)   \n",
      "3        4            Waiting to Exhale (1995)   \n",
      "4        5  Father of the Bride Part II (1995)   \n",
      "\n",
      "                                        genres  \n",
      "0  Adventure|Animation|Children|Comedy|Fantasy  \n",
      "1                   Adventure|Children|Fantasy  \n",
      "2                               Comedy|Romance  \n",
      "3                         Comedy|Drama|Romance  \n",
      "4                                       Comedy  \n",
      "\n",
      "--------------------------\n",
      "\n",
      "Ratings Table:\n",
      "   userId  movieId  rating  timestamp\n",
      "0       1        1     4.0  964982703\n",
      "1       1        3     4.0  964981247\n",
      "2       1        6     4.0  964982224\n",
      "3       1       47     5.0  964983815\n",
      "4       1       50     5.0  964982931\n"
     ]
    },
    {
     "ename": "",
     "evalue": "",
     "output_type": "error",
     "traceback": [
      "\u001b[1;31mnotebook controller is DISPOSED. \n",
      "\u001b[1;31mView Jupyter <a href='command:jupyter.viewOutput'>log</a> for further details."
     ]
    }
   ],
   "source": [
    "# Import the pandas library, which helps us work with tables\n",
    "import pandas as pd\n",
    "import numpy as np\n",
    "\n",
    "# Load the two files we need.\n",
    "# Make sure the 'ml-latest-small' folder is in the same directory as your notebook.\n",
    "movies_df = pd.read_csv('ml-latest-small/movies.csv')\n",
    "ratings_df = pd.read_csv('ml-latest-small/ratings.csv')\n",
    "\n",
    "# Let's look at the first 5 rows of each table to see what we have\n",
    "print(\"Movies Table:\")\n",
    "print(movies_df.head())\n",
    "print(\"\\n--------------------------\\n\")\n",
    "print(\"Ratings Table:\")\n",
    "print(ratings_df.head())"
   ]
  },
  {
   "cell_type": "code",
   "execution_count": null,
   "id": "aa58a177-b447-478a-9bce-b58b152aa84e",
   "metadata": {},
   "outputs": [
    {
     "name": "stdout",
     "output_type": "stream",
     "text": [
      "Utility Matrix (Users x Movies):\n",
      "title   '71 (2014)  'Hellboy': The Seeds of Creation (2004)  \\\n",
      "userId                                                        \n",
      "1              0.0                                      0.0   \n",
      "2              0.0                                      0.0   \n",
      "3              0.0                                      0.0   \n",
      "4              0.0                                      0.0   \n",
      "5              0.0                                      0.0   \n",
      "\n",
      "title   'Round Midnight (1986)  'Salem's Lot (2004)  \\\n",
      "userId                                                \n",
      "1                          0.0                  0.0   \n",
      "2                          0.0                  0.0   \n",
      "3                          0.0                  0.0   \n",
      "4                          0.0                  0.0   \n",
      "5                          0.0                  0.0   \n",
      "\n",
      "title   'Til There Was You (1997)  'Tis the Season for Love (2015)  \\\n",
      "userId                                                               \n",
      "1                             0.0                              0.0   \n",
      "2                             0.0                              0.0   \n",
      "3                             0.0                              0.0   \n",
      "4                             0.0                              0.0   \n",
      "5                             0.0                              0.0   \n",
      "\n",
      "title   'burbs, The (1989)  'night Mother (1986)  (500) Days of Summer (2009)  \\\n",
      "userId                                                                          \n",
      "1                      0.0                   0.0                          0.0   \n",
      "2                      0.0                   0.0                          0.0   \n",
      "3                      0.0                   0.0                          0.0   \n",
      "4                      0.0                   0.0                          0.0   \n",
      "5                      0.0                   0.0                          0.0   \n",
      "\n",
      "title   *batteries not included (1987)  ...  Zulu (2013)  [REC] (2007)  \\\n",
      "userId                                  ...                              \n",
      "1                                  0.0  ...          0.0           0.0   \n",
      "2                                  0.0  ...          0.0           0.0   \n",
      "3                                  0.0  ...          0.0           0.0   \n",
      "4                                  0.0  ...          0.0           0.0   \n",
      "5                                  0.0  ...          0.0           0.0   \n",
      "\n",
      "title   [REC]² (2009)  [REC]³ 3 Génesis (2012)  \\\n",
      "userId                                           \n",
      "1                 0.0                      0.0   \n",
      "2                 0.0                      0.0   \n",
      "3                 0.0                      0.0   \n",
      "4                 0.0                      0.0   \n",
      "5                 0.0                      0.0   \n",
      "\n",
      "title   anohana: The Flower We Saw That Day - The Movie (2013)  \\\n",
      "userId                                                           \n",
      "1                                                     0.0        \n",
      "2                                                     0.0        \n",
      "3                                                     0.0        \n",
      "4                                                     0.0        \n",
      "5                                                     0.0        \n",
      "\n",
      "title   eXistenZ (1999)  xXx (2002)  xXx: State of the Union (2005)  \\\n",
      "userId                                                                \n",
      "1                   0.0         0.0                             0.0   \n",
      "2                   0.0         0.0                             0.0   \n",
      "3                   0.0         0.0                             0.0   \n",
      "4                   0.0         0.0                             0.0   \n",
      "5                   0.0         0.0                             0.0   \n",
      "\n",
      "title   ¡Three Amigos! (1986)  À nous la liberté (Freedom for Us) (1931)  \n",
      "userId                                                                    \n",
      "1                         4.0                                        0.0  \n",
      "2                         0.0                                        0.0  \n",
      "3                         0.0                                        0.0  \n",
      "4                         0.0                                        0.0  \n",
      "5                         0.0                                        0.0  \n",
      "\n",
      "[5 rows x 9719 columns]\n"
     ]
    },
    {
     "ename": "",
     "evalue": "",
     "output_type": "error",
     "traceback": [
      "\u001b[1;31mnotebook controller is DISPOSED. \n",
      "\u001b[1;31mView Jupyter <a href='command:jupyter.viewOutput'>log</a> for further details."
     ]
    }
   ],
   "source": [
    "# First, let's merge the two tables so we have the movie titles next to the ratings\n",
    "df = pd.merge(ratings_df, movies_df, on='movieId')\n",
    "\n",
    "# Now, we'll create the main table (the utility matrix)\n",
    "# It will have users as rows, movie titles as columns, and ratings as the values\n",
    "utility_matrix = df.pivot_table(index='userId', columns='title', values='rating')\n",
    "\n",
    "# Most users haven't rated most movies, so we have a lot of empty spots (NaN).\n",
    "# Let's fill these empty spots with 0.\n",
    "utility_matrix = utility_matrix.fillna(0)\n",
    "\n",
    "# Let's look at our final table to make sure it looks right\n",
    "print(\"Utility Matrix (Users x Movies):\")\n",
    "print(utility_matrix.head())"
   ]
  },
  {
   "cell_type": "code",
   "execution_count": null,
   "id": "ee8de9a0-5938-4014-acc5-556d09483018",
   "metadata": {},
   "outputs": [
    {
     "name": "stdout",
     "output_type": "stream",
     "text": [
      "Training complete!\n"
     ]
    },
    {
     "ename": "",
     "evalue": "",
     "output_type": "error",
     "traceback": [
      "\u001b[1;31mnotebook controller is DISPOSED. \n",
      "\u001b[1;31mView Jupyter <a href='command:jupyter.viewOutput'>log</a> for further details."
     ]
    }
   ],
   "source": [
    "from sklearn.decomposition import NMF\n",
    "\n",
    "# Create the NMF model. We'll ask it to find 20 hidden patterns (n_components=20).\n",
    "model = NMF(n_components=20, init='random', random_state=42, max_iter=1000)\n",
    "\n",
    "# Train the model on our data. This learns the patterns.\n",
    "# W holds the user patterns.\n",
    "W = model.fit_transform(utility_matrix)\n",
    "\n",
    "# H holds the movie patterns.\n",
    "H = model.components_\n",
    "\n",
    "print(\"Training complete!\")"
   ]
  },
  {
   "cell_type": "code",
   "execution_count": null,
   "id": "bb3d4406-adb1-47f4-81ae-9c3cf005a015",
   "metadata": {},
   "outputs": [
    {
     "name": "stdout",
     "output_type": "stream",
     "text": [
      "Predicted Ratings Matrix (all missing ratings are now filled):\n",
      "title   '71 (2014)  'Hellboy': The Seeds of Creation (2004)  \\\n",
      "userId                                                        \n",
      "1         0.000000                                 0.012202   \n",
      "2         0.000000                                 0.007271   \n",
      "3         0.006309                                 0.000000   \n",
      "4         0.000000                                 0.013456   \n",
      "5         0.000000                                 0.001609   \n",
      "\n",
      "title   'Round Midnight (1986)  'Salem's Lot (2004)  \\\n",
      "userId                                                \n",
      "1                     0.011161             0.008607   \n",
      "2                     0.006048             0.000104   \n",
      "3                     0.000000             0.000437   \n",
      "4                     0.013880             0.009740   \n",
      "5                     0.001491             0.000525   \n",
      "\n",
      "title   'Til There Was You (1997)  'Tis the Season for Love (2015)  \\\n",
      "userId                                                               \n",
      "1                        0.000544                         0.000000   \n",
      "2                        0.000069                         0.004489   \n",
      "3                        0.000000                         0.000017   \n",
      "4                        0.043071                         0.000000   \n",
      "5                        0.002374                         0.000000   \n",
      "\n",
      "title   'burbs, The (1989)  'night Mother (1986)  (500) Days of Summer (2009)  \\\n",
      "userId                                                                          \n",
      "1                 0.800813                   0.0                     0.151997   \n",
      "2                 0.000939                   0.0                     0.137164   \n",
      "3                 0.039842                   0.0                     0.005477   \n",
      "4                 0.015518                   0.0                     0.176743   \n",
      "5                 0.000000                   0.0                     0.042223   \n",
      "\n",
      "title   *batteries not included (1987)  ...  Zulu (2013)  [REC] (2007)  \\\n",
      "userId                                  ...                              \n",
      "1                             0.061038  ...          0.0      0.089801   \n",
      "2                             0.000000  ...          0.0      0.008012   \n",
      "3                             0.000044  ...          0.0      0.010736   \n",
      "4                             0.029484  ...          0.0      0.004819   \n",
      "5                             0.002791  ...          0.0      0.002420   \n",
      "\n",
      "title   [REC]² (2009)  [REC]³ 3 Génesis (2012)  \\\n",
      "userId                                           \n",
      "1            0.002010                 0.000000   \n",
      "2            0.002773                 0.000000   \n",
      "3            0.008036                 0.007265   \n",
      "4            0.000000                 0.000000   \n",
      "5            0.000510                 0.000000   \n",
      "\n",
      "title   anohana: The Flower We Saw That Day - The Movie (2013)  \\\n",
      "userId                                                           \n",
      "1                                                0.000000        \n",
      "2                                                0.002976        \n",
      "3                                                0.000000        \n",
      "4                                                0.000000        \n",
      "5                                                0.000000        \n",
      "\n",
      "title   eXistenZ (1999)  xXx (2002)  xXx: State of the Union (2005)  \\\n",
      "userId                                                                \n",
      "1              0.179939    0.072896                        0.042670   \n",
      "2              0.015610    0.027027                        0.002573   \n",
      "3              0.003281    0.005560                        0.002314   \n",
      "4              0.366888    0.004356                        0.000000   \n",
      "5              0.015101    0.000000                        0.000000   \n",
      "\n",
      "title   ¡Three Amigos! (1986)  À nous la liberté (Freedom for Us) (1931)  \n",
      "userId                                                                    \n",
      "1                    0.955171                                   0.020821  \n",
      "2                    0.014209                                   0.000000  \n",
      "3                    0.046384                                   0.001058  \n",
      "4                    0.072093                                   0.001003  \n",
      "5                    0.004949                                   0.000197  \n",
      "\n",
      "[5 rows x 9719 columns]\n"
     ]
    },
    {
     "ename": "",
     "evalue": "",
     "output_type": "error",
     "traceback": [
      "\u001b[1;31mnotebook controller is DISPOSED. \n",
      "\u001b[1;31mView Jupyter <a href='command:jupyter.viewOutput'>log</a> for further details."
     ]
    }
   ],
   "source": [
    "# Multiply the two matrices to get the full predicted ratings matrix\n",
    "predicted_ratings_matrix = np.dot(W, H)\n",
    "\n",
    "# Let's put it back into a nice table format with user and movie labels\n",
    "predicted_ratings_df = pd.DataFrame(predicted_ratings_matrix, \n",
    "                                    columns=utility_matrix.columns, \n",
    "                                    index=utility_matrix.index)\n",
    "\n",
    "print(\"Predicted Ratings Matrix (all missing ratings are now filled):\")\n",
    "print(predicted_ratings_df.head())"
   ]
  },
  {
   "cell_type": "code",
   "execution_count": null,
   "id": "80c2986c-56e5-4eb9-a156-7ca600416adb",
   "metadata": {},
   "outputs": [
    {
     "name": "stdout",
     "output_type": "stream",
     "text": [
      "\n",
      "Top 10 Movie Recommendations for User 1:\n",
      "title\n",
      "Aliens (1986)                             4.240153\n",
      "Terminator 2: Judgment Day (1991)         4.175863\n",
      "Star Trek II: The Wrath of Khan (1982)    3.263488\n",
      "Die Hard (1988)                           3.249197\n",
      "Sixth Sense, The (1999)                   3.135391\n",
      "Blade Runner (1982)                       3.024994\n",
      "Stand by Me (1986)                        3.014421\n",
      "Star Trek: First Contact (1996)           2.989666\n",
      "Hunt for Red October, The (1990)          2.966906\n",
      "Godfather, The (1972)                     2.916499\n",
      "Name: 1, dtype: float64\n"
     ]
    },
    {
     "ename": "",
     "evalue": "",
     "output_type": "error",
     "traceback": [
      "\u001b[1;31mnotebook controller is DISPOSED. \n",
      "\u001b[1;31mView Jupyter <a href='command:jupyter.viewOutput'>log</a> for further details."
     ]
    }
   ],
   "source": [
    "# --- Let's get recommendations for User 1 ---\n",
    "\n",
    "# The ID of the user we want to recommend movies to\n",
    "user_id_to_recommend = 1\n",
    "\n",
    "# Get all the predicted ratings for this user from our new table\n",
    "user_predictions = predicted_ratings_df.loc[user_id_to_recommend]\n",
    "\n",
    "# Get all the actual ratings this user has given from the original table\n",
    "user_actual_ratings = utility_matrix.loc[user_id_to_recommend]\n",
    "\n",
    "# Find movies the user has NOT seen (where their actual rating was 0)\n",
    "unseen_movies = user_actual_ratings[user_actual_ratings == 0]\n",
    "\n",
    "# Get the predictions for ONLY the movies they haven't seen\n",
    "recommendations = user_predictions[unseen_movies.index]\n",
    "\n",
    "# Sort these recommendations and show the top 10\n",
    "top_10_recommendations = recommendations.sort_values(ascending=False).head(10)\n",
    "\n",
    "print(f\"\\nTop 10 Movie Recommendations for User {user_id_to_recommend}:\")\n",
    "print(top_10_recommendations)"
   ]
  },
  {
   "cell_type": "code",
   "execution_count": null,
   "id": "63761922-19a7-46ae-94af-8ffca78111c3",
   "metadata": {},
   "outputs": [
    {
     "name": "stdout",
     "output_type": "stream",
     "text": [
      "\n",
      "Top 10 Movie Recommendations for User 1:\n",
      "title\n",
      "Aliens (1986)                             4.240153\n",
      "Terminator 2: Judgment Day (1991)         4.175863\n",
      "Star Trek II: The Wrath of Khan (1982)    3.263488\n",
      "Die Hard (1988)                           3.249197\n",
      "Sixth Sense, The (1999)                   3.135391\n",
      "Blade Runner (1982)                       3.024994\n",
      "Stand by Me (1986)                        3.014421\n",
      "Star Trek: First Contact (1996)           2.989666\n",
      "Hunt for Red October, The (1990)          2.966906\n",
      "Godfather, The (1972)                     2.916499\n",
      "Name: 1, dtype: float64\n"
     ]
    },
    {
     "ename": "",
     "evalue": "",
     "output_type": "error",
     "traceback": [
      "\u001b[1;31mnotebook controller is DISPOSED. \n",
      "\u001b[1;31mView Jupyter <a href='command:jupyter.viewOutput'>log</a> for further details."
     ]
    }
   ],
   "source": [
    "# --- Let's get recommendations for User 1 ---\n",
    "\n",
    "# The ID of the user we want to recommend movies to\n",
    "user_id_to_recommend = 1\n",
    "\n",
    "# Get all the predicted ratings for this user from our new table\n",
    "user_predictions = predicted_ratings_df.loc[user_id_to_recommend]\n",
    "\n",
    "# Get all the actual ratings this user has given from the original table\n",
    "user_actual_ratings = utility_matrix.loc[user_id_to_recommend]\n",
    "\n",
    "# Find movies the user has NOT seen (where their actual rating was 0)\n",
    "unseen_movies = user_actual_ratings[user_actual_ratings == 0]\n",
    "\n",
    "# Get the predictions for ONLY the movies they haven't seen\n",
    "recommendations = user_predictions[unseen_movies.index]\n",
    "\n",
    "# Sort these recommendations and show the top 10\n",
    "top_10_recommendations = recommendations.sort_values(ascending=False).head(10)\n",
    "\n",
    "print(f\"\\nTop 10 Movie Recommendations for User {user_id_to_recommend}:\")\n",
    "print(top_10_recommendations)"
   ]
  },
  {
   "cell_type": "code",
   "execution_count": null,
   "id": "0bffe02f-2629-4e50-bcae-92f239d84cbd",
   "metadata": {},
   "outputs": [
    {
     "name": "stdout",
     "output_type": "stream",
     "text": [
      "Training the model...\n",
      "Training complete!\n",
      "Evaluating the model...\n",
      "\n",
      "The new, correct RMSE of our model is: 3.0423240088028756\n"
     ]
    },
    {
     "ename": "",
     "evalue": "",
     "output_type": "error",
     "traceback": [
      "\u001b[1;31mnotebook controller is DISPOSED. \n",
      "\u001b[1;31mView Jupyter <a href='command:jupyter.viewOutput'>log</a> for further details."
     ]
    }
   ],
   "source": [
    "import pandas as pd\n",
    "import numpy as np\n",
    "from sklearn.model_selection import train_test_split\n",
    "from sklearn.metrics import mean_squared_error\n",
    "from sklearn.decomposition import NMF\n",
    "\n",
    "# --- 1. Load Data (Same as before) ---\n",
    "movies_df = pd.read_csv('ml-latest-small/movies.csv')\n",
    "ratings_df = pd.read_csv('ml-latest-small/ratings.csv')\n",
    "ratings_df_for_split = ratings_df.copy()\n",
    "\n",
    "# --- 2. Split Data (Same as before) ---\n",
    "train_df, test_df = train_test_split(ratings_df_for_split, test_size=0.2, random_state=42)\n",
    "\n",
    "# --- 3. Create the training utility matrix (Same as before) ---\n",
    "train_utility_matrix = train_df.pivot_table(index='userId', columns='movieId', values='rating').fillna(0)\n",
    "\n",
    "# --- 4. Train the NMF model (FIX #1: Added max_iter) ---\n",
    "# We give the model more time to \"converge\" to a better solution.\n",
    "model = NMF(n_components=20, init='random', random_state=42, max_iter=1000)\n",
    "print(\"Training the model...\")\n",
    "W_train = model.fit_transform(train_utility_matrix)\n",
    "H_train = model.components_\n",
    "predicted_ratings_matrix = np.dot(W_train, H_train)\n",
    "print(\"Training complete!\")\n",
    "\n",
    "# --- 5. Test Predictions (FIX #2: The main bug fix) ---\n",
    "actual_ratings = []\n",
    "predicted_ratings = []\n",
    "\n",
    "print(\"Evaluating the model...\")\n",
    "for index, row in test_df.iterrows():\n",
    "    user_id = int(row['userId'])\n",
    "    movie_id = int(row['movieId'])\n",
    "    actual_rating = row['rating']\n",
    "    \n",
    "    # We need to check if the user and movie from the test set\n",
    "    # exist in our training matrix.\n",
    "    if user_id in train_utility_matrix.index and movie_id in train_utility_matrix.columns:\n",
    "        \n",
    "        # --- THIS IS THE CORRECTED LOGIC ---\n",
    "        # Find the internal row index for the user\n",
    "        user_index = train_utility_matrix.index.get_loc(user_id)\n",
    "        # Find the internal column index for the movie\n",
    "        movie_index = train_utility_matrix.columns.get_loc(movie_id)\n",
    "        \n",
    "        # Get the model's predicted rating using the correct indices\n",
    "        predicted_rating = predicted_ratings_matrix[user_index, movie_index]\n",
    "        \n",
    "        actual_ratings.append(actual_rating)\n",
    "        predicted_ratings.append(predicted_rating)\n",
    "\n",
    "# --- 6. Calculate Final RMSE (Same as before) ---\n",
    "rmse = np.sqrt(mean_squared_error(actual_ratings, predicted_ratings))\n",
    "\n",
    "print(f\"\\nThe new, correct RMSE of our model is: {rmse}\")"
   ]
  },
  {
   "cell_type": "code",
   "execution_count": null,
   "id": "14c84c0b-32d2-4216-8d99-70a72a22a425",
   "metadata": {},
   "outputs": [
    {
     "name": "stdout",
     "output_type": "stream",
     "text": [
      "Training the model...\n",
      "Training complete!\n",
      "\n",
      "After scaling, Max predicted rating: 5.0\n",
      "After scaling, Min predicted rating: 0.5\n",
      "\n",
      "Evaluating the model...\n",
      "\n",
      "The FINAL, correct RMSE of our model is: 2.8226425621403455\n"
     ]
    },
    {
     "ename": "",
     "evalue": "",
     "output_type": "error",
     "traceback": [
      "\u001b[1;31mnotebook controller is DISPOSED. \n",
      "\u001b[1;31mView Jupyter <a href='command:jupyter.viewOutput'>log</a> for further details."
     ]
    }
   ],
   "source": [
    "import pandas as pd\n",
    "import numpy as np\n",
    "from sklearn.model_selection import train_test_split\n",
    "from sklearn.metrics import mean_squared_error\n",
    "from sklearn.decomposition import NMF\n",
    "\n",
    "# --- 1. Load Data ---\n",
    "movies_df = pd.read_csv('ml-latest-small/movies.csv')\n",
    "ratings_df = pd.read_csv('ml-latest-small/ratings.csv')\n",
    "ratings_df_for_split = ratings_df.copy()\n",
    "\n",
    "# --- 2. Split Data ---\n",
    "train_df, test_df = train_test_split(ratings_df_for_split, test_size=0.2, random_state=42)\n",
    "\n",
    "# --- 3. Create the training utility matrix ---\n",
    "train_utility_matrix = train_df.pivot_table(index='userId', columns='movieId', values='rating').fillna(0)\n",
    "\n",
    "# --- 4. Train the NMF model ---\n",
    "model = NMF(n_components=20, init='random', random_state=42, max_iter=1000)\n",
    "print(\"Training the model...\")\n",
    "W_train = model.fit_transform(train_utility_matrix)\n",
    "H_train = model.components_\n",
    "predicted_ratings_matrix_raw = np.dot(W_train, H_train)\n",
    "print(\"Training complete!\")\n",
    "\n",
    "# --- 5. THE CRUCIAL FIX: Scale the Predictions ---\n",
    "# We are scaling all the raw predictions to fit into our desired 0.5 to 5.0 rating scale.\n",
    "min_rating = 0.5\n",
    "max_rating = 5.0\n",
    "predicted_ratings_matrix = (predicted_ratings_matrix_raw - predicted_ratings_matrix_raw.min()) / (predicted_ratings_matrix_raw.max() - predicted_ratings_matrix_raw.min()) * (max_rating - min_rating) + min_rating\n",
    "\n",
    "print(f\"\\nAfter scaling, Max predicted rating: {predicted_ratings_matrix.max()}\")\n",
    "print(f\"After scaling, Min predicted rating: {predicted_ratings_matrix.min()}\")\n",
    "\n",
    "\n",
    "# --- 6. Test Predictions ---\n",
    "actual_ratings = []\n",
    "predicted_ratings = []\n",
    "\n",
    "print(\"\\nEvaluating the model...\")\n",
    "for index, row in test_df.iterrows():\n",
    "    user_id = int(row['userId'])\n",
    "    movie_id = int(row['movieId'])\n",
    "    actual_rating = row['rating']\n",
    "    \n",
    "    if user_id in train_utility_matrix.index and movie_id in train_utility_matrix.columns:\n",
    "        user_index = train_utility_matrix.index.get_loc(user_id)\n",
    "        movie_index = train_utility_matrix.columns.get_loc(movie_id)\n",
    "        \n",
    "        # Get the SCALED predicted rating\n",
    "        predicted_rating = predicted_ratings_matrix[user_index, movie_index]\n",
    "        \n",
    "        actual_ratings.append(actual_rating)\n",
    "        predicted_ratings.append(predicted_rating)\n",
    "\n",
    "# --- 7. Calculate Final RMSE ---\n",
    "rmse = np.sqrt(mean_squared_error(actual_ratings, predicted_ratings))\n",
    "\n",
    "print(f\"\\nThe FINAL, correct RMSE of our model is: {rmse}\")"
   ]
  },
  {
   "cell_type": "code",
   "execution_count": null,
   "id": "558b48d0-6cbf-47ea-a6bb-d739c32b1c56",
   "metadata": {},
   "outputs": [
    {
     "ename": "NameError",
     "evalue": "name 'ratings_df' is not defined",
     "output_type": "error",
     "traceback": [
      "\u001b[1;31m---------------------------------------------------------------------------\u001b[0m",
      "\u001b[1;31mNameError\u001b[0m                                 Traceback (most recent call last)",
      "Cell \u001b[1;32mIn[1], line 10\u001b[0m\n\u001b[0;32m      5\u001b[0m \u001b[38;5;28;01mfrom\u001b[39;00m\u001b[38;5;250m \u001b[39m\u001b[38;5;21;01mtensorflow\u001b[39;00m\u001b[38;5;21;01m.\u001b[39;00m\u001b[38;5;21;01mkeras\u001b[39;00m\u001b[38;5;21;01m.\u001b[39;00m\u001b[38;5;21;01moptimizers\u001b[39;00m\u001b[38;5;250m \u001b[39m\u001b[38;5;28;01mimport\u001b[39;00m Adam\n\u001b[0;32m      7\u001b[0m \u001b[38;5;66;03m# --- Data Preparation ---\u001b[39;00m\n\u001b[0;32m      8\u001b[0m \n\u001b[0;32m      9\u001b[0m \u001b[38;5;66;03m# Create a new, continuous index for users and movies\u001b[39;00m\n\u001b[1;32m---> 10\u001b[0m user_ids \u001b[38;5;241m=\u001b[39m ratings_df[\u001b[38;5;124m'\u001b[39m\u001b[38;5;124muserId\u001b[39m\u001b[38;5;124m'\u001b[39m]\u001b[38;5;241m.\u001b[39munique()\u001b[38;5;241m.\u001b[39mtolist()\n\u001b[0;32m     11\u001b[0m movie_ids \u001b[38;5;241m=\u001b[39m ratings_df[\u001b[38;5;124m'\u001b[39m\u001b[38;5;124mmovieId\u001b[39m\u001b[38;5;124m'\u001b[39m]\u001b[38;5;241m.\u001b[39munique()\u001b[38;5;241m.\u001b[39mtolist()\n\u001b[0;32m     13\u001b[0m user_to_index \u001b[38;5;241m=\u001b[39m {original_id: i \u001b[38;5;28;01mfor\u001b[39;00m i, original_id \u001b[38;5;129;01min\u001b[39;00m \u001b[38;5;28menumerate\u001b[39m(user_ids)}\n",
      "\u001b[1;31mNameError\u001b[0m: name 'ratings_df' is not defined"
     ]
    },
    {
     "ename": "",
     "evalue": "",
     "output_type": "error",
     "traceback": [
      "\u001b[1;31mnotebook controller is DISPOSED. \n",
      "\u001b[1;31mView Jupyter <a href='command:jupyter.viewOutput'>log</a> for further details."
     ]
    }
   ],
   "source": [
    "# First, let's prepare the data for the deep learning model\n",
    "from sklearn.model_selection import train_test_split\n",
    "from tensorflow.keras.models import Model\n",
    "from tensorflow.keras.layers import Input, Embedding, Flatten, Concatenate, Dense\n",
    "from tensorflow.keras.optimizers import Adam\n",
    "\n",
    "# --- Data Preparation ---\n",
    "\n",
    "# Create a new, continuous index for users and movies\n",
    "user_ids = ratings_df['userId'].unique().tolist()\n",
    "movie_ids = ratings_df['movieId'].unique().tolist()\n",
    "\n",
    "user_to_index = {original_id: i for i, original_id in enumerate(user_ids)}\n",
    "movie_to_index = {original_id: i for i, original_id in enumerate(movie_ids)}\n",
    "\n",
    "# Add the new indexed columns to our dataframe\n",
    "ratings_df['user_index'] = ratings_df['userId'].map(user_to_index)\n",
    "ratings_df['movie_index'] = ratings_df['movieId'].map(movie_to_index)\n",
    "\n",
    "# Define number of unique users and movies\n",
    "n_users = len(user_to_index)\n",
    "n_movies = len(movie_to_index)\n",
    "\n",
    "# Prepare the inputs (X) and output (y) for the model\n",
    "X = ratings_df[['user_index', 'movie_index']].values\n",
    "y = ratings_df['rating'].values\n",
    "\n",
    "# Split into training and testing sets\n",
    "X_train, X_test, y_train, y_test = train_test_split(X, y, test_size=0.2, random_state=42)\n",
    "\n",
    "# --- Build the Deep Learning Model Architecture ---\n",
    "\n",
    "# Size of the embedding vectors (how many \"features\" to learn for each user/movie)\n",
    "embedding_size = 50\n",
    "\n",
    "# User input path\n",
    "user_input = Input(shape=[1], name='UserInput')\n",
    "user_embedding = Embedding(input_dim=n_users, output_dim=embedding_size, name='UserEmbedding')(user_input)\n",
    "user_vec = Flatten(name='FlattenUser')(user_embedding)\n",
    "\n",
    "# Movie input path\n",
    "movie_input = Input(shape=[1], name='MovieInput')\n",
    "movie_embedding = Embedding(input_dim=n_movies, output_dim=embedding_size, name='MovieEmbedding')(movie_input)\n",
    "movie_vec = Flatten(name='FlattenMovie')(movie_embedding)\n",
    "\n",
    "# Concatenate the two vectors\n",
    "concat = Concatenate()([user_vec, movie_vec])\n",
    "\n",
    "# The \"thinking\" dense layers\n",
    "dense = Dense(128, activation='relu')(concat)\n",
    "dense = Dense(64, activation='relu')(dense)\n",
    "\n",
    "# The output layer\n",
    "output = Dense(1, name='Output')(dense)\n",
    "\n",
    "# Create the final model\n",
    "model = Model([user_input, movie_input], output)\n",
    "\n",
    "# Compile the model\n",
    "model.compile(optimizer=Adam(learning_rate=0.001), loss='mean_squared_error')"
   ]
  },
  {
   "cell_type": "code",
   "execution_count": null,
   "id": "61a7b051-3495-41e0-aec5-692ef6f9f596",
   "metadata": {},
   "outputs": [
    {
     "name": "stdout",
     "output_type": "stream",
     "text": [
      "Data loaded successfully!\n"
     ]
    },
    {
     "ename": "",
     "evalue": "",
     "output_type": "error",
     "traceback": [
      "\u001b[1;31mnotebook controller is DISPOSED. \n",
      "\u001b[1;31mView Jupyter <a href='command:jupyter.viewOutput'>log</a> for further details."
     ]
    }
   ],
   "source": [
    "import pandas as pd\n",
    "\n",
    "# Make sure you run this cell to create the dataframes!\n",
    "movies_df = pd.read_csv('ml-latest-small/movies.csv')\n",
    "ratings_df = pd.read_csv('ml-latest-small/ratings.csv')\n",
    "\n",
    "print(\"Data loaded successfully!\")"
   ]
  },
  {
   "cell_type": "code",
   "execution_count": null,
   "id": "50cf4523-5059-4519-9960-8a818ca166f8",
   "metadata": {},
   "outputs": [
    {
     "ename": "",
     "evalue": "",
     "output_type": "error",
     "traceback": [
      "\u001b[1;31mnotebook controller is DISPOSED. \n",
      "\u001b[1;31mView Jupyter <a href='command:jupyter.viewOutput'>log</a> for further details."
     ]
    }
   ],
   "source": [
    "# Now you can run this cell without the NameError\n",
    "from sklearn.model_selection import train_test_split\n",
    "from tensorflow.keras.models import Model\n",
    "# ... (the rest of your deep learning code is here) ..."
   ]
  },
  {
   "cell_type": "code",
   "execution_count": null,
   "id": "c219cb1a-c588-4704-91aa-8a93f0a76acd",
   "metadata": {},
   "outputs": [
    {
     "ename": "",
     "evalue": "",
     "output_type": "error",
     "traceback": [
      "\u001b[1;31mnotebook controller is DISPOSED. \n",
      "\u001b[1;31mView Jupyter <a href='command:jupyter.viewOutput'>log</a> for further details."
     ]
    }
   ],
   "source": [
    "# First, let's prepare the data for the deep learning model\n",
    "from sklearn.model_selection import train_test_split\n",
    "from tensorflow.keras.models import Model\n",
    "from tensorflow.keras.layers import Input, Embedding, Flatten, Concatenate, Dense\n",
    "from tensorflow.keras.optimizers import Adam\n",
    "\n",
    "# --- Data Preparation ---\n",
    "\n",
    "# Create a new, continuous index for users and movies\n",
    "user_ids = ratings_df['userId'].unique().tolist()\n",
    "movie_ids = ratings_df['movieId'].unique().tolist()\n",
    "\n",
    "user_to_index = {original_id: i for i, original_id in enumerate(user_ids)}\n",
    "movie_to_index = {original_id: i for i, original_id in enumerate(movie_ids)}\n",
    "\n",
    "# Add the new indexed columns to our dataframe\n",
    "ratings_df['user_index'] = ratings_df['userId'].map(user_to_index)\n",
    "ratings_df['movie_index'] = ratings_df['movieId'].map(movie_to_index)\n",
    "\n",
    "# Define number of unique users and movies\n",
    "n_users = len(user_to_index)\n",
    "n_movies = len(movie_to_index)\n",
    "\n",
    "# Prepare the inputs (X) and output (y) for the model\n",
    "X = ratings_df[['user_index', 'movie_index']].values\n",
    "y = ratings_df['rating'].values\n",
    "\n",
    "# Split into training and testing sets\n",
    "X_train, X_test, y_train, y_test = train_test_split(X, y, test_size=0.2, random_state=42)\n",
    "\n",
    "# --- Build the Deep Learning Model Architecture ---\n",
    "\n",
    "# Size of the embedding vectors (how many \"features\" to learn for each user/movie)\n",
    "embedding_size = 50\n",
    "\n",
    "# User input path\n",
    "user_input = Input(shape=[1], name='UserInput')\n",
    "user_embedding = Embedding(input_dim=n_users, output_dim=embedding_size, name='UserEmbedding')(user_input)\n",
    "user_vec = Flatten(name='FlattenUser')(user_embedding)\n",
    "\n",
    "# Movie input path\n",
    "movie_input = Input(shape=[1], name='MovieInput')\n",
    "movie_embedding = Embedding(input_dim=n_movies, output_dim=embedding_size, name='MovieEmbedding')(movie_input)\n",
    "movie_vec = Flatten(name='FlattenMovie')(movie_embedding)\n",
    "\n",
    "# Concatenate the two vectors\n",
    "concat = Concatenate()([user_vec, movie_vec])\n",
    "\n",
    "# The \"thinking\" dense layers\n",
    "dense = Dense(128, activation='relu')(concat)\n",
    "dense = Dense(64, activation='relu')(dense)\n",
    "\n",
    "# The output layer\n",
    "output = Dense(1, name='Output')(dense)\n",
    "\n",
    "# Create the final model\n",
    "model = Model([user_input, movie_input], output)\n",
    "\n",
    "# Compile the model\n",
    "model.compile(optimizer=Adam(learning_rate=0.001), loss='mean_squared_error')"
   ]
  },
  {
   "cell_type": "code",
   "execution_count": null,
   "id": "65255ca6",
   "metadata": {},
   "outputs": [
    {
     "data": {
      "text/html": [
       "<pre style=\"white-space:pre;overflow-x:auto;line-height:normal;font-family:Menlo,'DejaVu Sans Mono',consolas,'Courier New',monospace\"><span style=\"font-weight: bold\">Model: \"functional\"</span>\n",
       "</pre>\n"
      ],
      "text/plain": [
       "\u001b[1mModel: \"functional\"\u001b[0m\n"
      ]
     },
     "metadata": {},
     "output_type": "display_data"
    },
    {
     "data": {
      "text/html": [
       "<pre style=\"white-space:pre;overflow-x:auto;line-height:normal;font-family:Menlo,'DejaVu Sans Mono',consolas,'Courier New',monospace\">┏━━━━━━━━━━━━━━━━━━━━━┳━━━━━━━━━━━━━━━━━━━┳━━━━━━━━━━━━┳━━━━━━━━━━━━━━━━━━━┓\n",
       "┃<span style=\"font-weight: bold\"> Layer (type)        </span>┃<span style=\"font-weight: bold\"> Output Shape      </span>┃<span style=\"font-weight: bold\">    Param # </span>┃<span style=\"font-weight: bold\"> Connected to      </span>┃\n",
       "┡━━━━━━━━━━━━━━━━━━━━━╇━━━━━━━━━━━━━━━━━━━╇━━━━━━━━━━━━╇━━━━━━━━━━━━━━━━━━━┩\n",
       "│ UserInput           │ (<span style=\"color: #00d7ff; text-decoration-color: #00d7ff\">None</span>, <span style=\"color: #00af00; text-decoration-color: #00af00\">1</span>)         │          <span style=\"color: #00af00; text-decoration-color: #00af00\">0</span> │ -                 │\n",
       "│ (<span style=\"color: #0087ff; text-decoration-color: #0087ff\">InputLayer</span>)        │                   │            │                   │\n",
       "├─────────────────────┼───────────────────┼────────────┼───────────────────┤\n",
       "│ MovieInput          │ (<span style=\"color: #00d7ff; text-decoration-color: #00d7ff\">None</span>, <span style=\"color: #00af00; text-decoration-color: #00af00\">1</span>)         │          <span style=\"color: #00af00; text-decoration-color: #00af00\">0</span> │ -                 │\n",
       "│ (<span style=\"color: #0087ff; text-decoration-color: #0087ff\">InputLayer</span>)        │                   │            │                   │\n",
       "├─────────────────────┼───────────────────┼────────────┼───────────────────┤\n",
       "│ UserEmbedding       │ (<span style=\"color: #00d7ff; text-decoration-color: #00d7ff\">None</span>, <span style=\"color: #00af00; text-decoration-color: #00af00\">1</span>, <span style=\"color: #00af00; text-decoration-color: #00af00\">50</span>)     │     <span style=\"color: #00af00; text-decoration-color: #00af00\">29,950</span> │ UserInput[<span style=\"color: #00af00; text-decoration-color: #00af00\">0</span>][<span style=\"color: #00af00; text-decoration-color: #00af00\">0</span>]   │\n",
       "│ (<span style=\"color: #0087ff; text-decoration-color: #0087ff\">Embedding</span>)         │                   │            │                   │\n",
       "├─────────────────────┼───────────────────┼────────────┼───────────────────┤\n",
       "│ MovieEmbedding      │ (<span style=\"color: #00d7ff; text-decoration-color: #00d7ff\">None</span>, <span style=\"color: #00af00; text-decoration-color: #00af00\">1</span>, <span style=\"color: #00af00; text-decoration-color: #00af00\">50</span>)     │     <span style=\"color: #00af00; text-decoration-color: #00af00\">48,200</span> │ MovieInput[<span style=\"color: #00af00; text-decoration-color: #00af00\">0</span>][<span style=\"color: #00af00; text-decoration-color: #00af00\">0</span>]  │\n",
       "│ (<span style=\"color: #0087ff; text-decoration-color: #0087ff\">Embedding</span>)         │                   │            │                   │\n",
       "├─────────────────────┼───────────────────┼────────────┼───────────────────┤\n",
       "│ flatten (<span style=\"color: #0087ff; text-decoration-color: #0087ff\">Flatten</span>)   │ (<span style=\"color: #00d7ff; text-decoration-color: #00d7ff\">None</span>, <span style=\"color: #00af00; text-decoration-color: #00af00\">50</span>)        │          <span style=\"color: #00af00; text-decoration-color: #00af00\">0</span> │ UserEmbedding[<span style=\"color: #00af00; text-decoration-color: #00af00\">0</span>]… │\n",
       "├─────────────────────┼───────────────────┼────────────┼───────────────────┤\n",
       "│ flatten_1 (<span style=\"color: #0087ff; text-decoration-color: #0087ff\">Flatten</span>) │ (<span style=\"color: #00d7ff; text-decoration-color: #00d7ff\">None</span>, <span style=\"color: #00af00; text-decoration-color: #00af00\">50</span>)        │          <span style=\"color: #00af00; text-decoration-color: #00af00\">0</span> │ MovieEmbedding[<span style=\"color: #00af00; text-decoration-color: #00af00\">0</span>… │\n",
       "├─────────────────────┼───────────────────┼────────────┼───────────────────┤\n",
       "│ concatenate         │ (<span style=\"color: #00d7ff; text-decoration-color: #00d7ff\">None</span>, <span style=\"color: #00af00; text-decoration-color: #00af00\">100</span>)       │          <span style=\"color: #00af00; text-decoration-color: #00af00\">0</span> │ flatten[<span style=\"color: #00af00; text-decoration-color: #00af00\">0</span>][<span style=\"color: #00af00; text-decoration-color: #00af00\">0</span>],    │\n",
       "│ (<span style=\"color: #0087ff; text-decoration-color: #0087ff\">Concatenate</span>)       │                   │            │ flatten_1[<span style=\"color: #00af00; text-decoration-color: #00af00\">0</span>][<span style=\"color: #00af00; text-decoration-color: #00af00\">0</span>]   │\n",
       "├─────────────────────┼───────────────────┼────────────┼───────────────────┤\n",
       "│ dense (<span style=\"color: #0087ff; text-decoration-color: #0087ff\">Dense</span>)       │ (<span style=\"color: #00d7ff; text-decoration-color: #00d7ff\">None</span>, <span style=\"color: #00af00; text-decoration-color: #00af00\">128</span>)       │     <span style=\"color: #00af00; text-decoration-color: #00af00\">12,928</span> │ concatenate[<span style=\"color: #00af00; text-decoration-color: #00af00\">0</span>][<span style=\"color: #00af00; text-decoration-color: #00af00\">0</span>] │\n",
       "├─────────────────────┼───────────────────┼────────────┼───────────────────┤\n",
       "│ dense_1 (<span style=\"color: #0087ff; text-decoration-color: #0087ff\">Dense</span>)     │ (<span style=\"color: #00d7ff; text-decoration-color: #00d7ff\">None</span>, <span style=\"color: #00af00; text-decoration-color: #00af00\">64</span>)        │      <span style=\"color: #00af00; text-decoration-color: #00af00\">8,256</span> │ dense[<span style=\"color: #00af00; text-decoration-color: #00af00\">0</span>][<span style=\"color: #00af00; text-decoration-color: #00af00\">0</span>]       │\n",
       "├─────────────────────┼───────────────────┼────────────┼───────────────────┤\n",
       "│ Output (<span style=\"color: #0087ff; text-decoration-color: #0087ff\">Dense</span>)      │ (<span style=\"color: #00d7ff; text-decoration-color: #00d7ff\">None</span>, <span style=\"color: #00af00; text-decoration-color: #00af00\">1</span>)         │         <span style=\"color: #00af00; text-decoration-color: #00af00\">65</span> │ dense_1[<span style=\"color: #00af00; text-decoration-color: #00af00\">0</span>][<span style=\"color: #00af00; text-decoration-color: #00af00\">0</span>]     │\n",
       "└─────────────────────┴───────────────────┴────────────┴───────────────────┘\n",
       "</pre>\n"
      ],
      "text/plain": [
       "┏━━━━━━━━━━━━━━━━━━━━━┳━━━━━━━━━━━━━━━━━━━┳━━━━━━━━━━━━┳━━━━━━━━━━━━━━━━━━━┓\n",
       "┃\u001b[1m \u001b[0m\u001b[1mLayer (type)       \u001b[0m\u001b[1m \u001b[0m┃\u001b[1m \u001b[0m\u001b[1mOutput Shape     \u001b[0m\u001b[1m \u001b[0m┃\u001b[1m \u001b[0m\u001b[1m   Param #\u001b[0m\u001b[1m \u001b[0m┃\u001b[1m \u001b[0m\u001b[1mConnected to     \u001b[0m\u001b[1m \u001b[0m┃\n",
       "┡━━━━━━━━━━━━━━━━━━━━━╇━━━━━━━━━━━━━━━━━━━╇━━━━━━━━━━━━╇━━━━━━━━━━━━━━━━━━━┩\n",
       "│ UserInput           │ (\u001b[38;5;45mNone\u001b[0m, \u001b[38;5;34m1\u001b[0m)         │          \u001b[38;5;34m0\u001b[0m │ -                 │\n",
       "│ (\u001b[38;5;33mInputLayer\u001b[0m)        │                   │            │                   │\n",
       "├─────────────────────┼───────────────────┼────────────┼───────────────────┤\n",
       "│ MovieInput          │ (\u001b[38;5;45mNone\u001b[0m, \u001b[38;5;34m1\u001b[0m)         │          \u001b[38;5;34m0\u001b[0m │ -                 │\n",
       "│ (\u001b[38;5;33mInputLayer\u001b[0m)        │                   │            │                   │\n",
       "├─────────────────────┼───────────────────┼────────────┼───────────────────┤\n",
       "│ UserEmbedding       │ (\u001b[38;5;45mNone\u001b[0m, \u001b[38;5;34m1\u001b[0m, \u001b[38;5;34m50\u001b[0m)     │     \u001b[38;5;34m29,950\u001b[0m │ UserInput[\u001b[38;5;34m0\u001b[0m][\u001b[38;5;34m0\u001b[0m]   │\n",
       "│ (\u001b[38;5;33mEmbedding\u001b[0m)         │                   │            │                   │\n",
       "├─────────────────────┼───────────────────┼────────────┼───────────────────┤\n",
       "│ MovieEmbedding      │ (\u001b[38;5;45mNone\u001b[0m, \u001b[38;5;34m1\u001b[0m, \u001b[38;5;34m50\u001b[0m)     │     \u001b[38;5;34m48,200\u001b[0m │ MovieInput[\u001b[38;5;34m0\u001b[0m][\u001b[38;5;34m0\u001b[0m]  │\n",
       "│ (\u001b[38;5;33mEmbedding\u001b[0m)         │                   │            │                   │\n",
       "├─────────────────────┼───────────────────┼────────────┼───────────────────┤\n",
       "│ flatten (\u001b[38;5;33mFlatten\u001b[0m)   │ (\u001b[38;5;45mNone\u001b[0m, \u001b[38;5;34m50\u001b[0m)        │          \u001b[38;5;34m0\u001b[0m │ UserEmbedding[\u001b[38;5;34m0\u001b[0m]… │\n",
       "├─────────────────────┼───────────────────┼────────────┼───────────────────┤\n",
       "│ flatten_1 (\u001b[38;5;33mFlatten\u001b[0m) │ (\u001b[38;5;45mNone\u001b[0m, \u001b[38;5;34m50\u001b[0m)        │          \u001b[38;5;34m0\u001b[0m │ MovieEmbedding[\u001b[38;5;34m0\u001b[0m… │\n",
       "├─────────────────────┼───────────────────┼────────────┼───────────────────┤\n",
       "│ concatenate         │ (\u001b[38;5;45mNone\u001b[0m, \u001b[38;5;34m100\u001b[0m)       │          \u001b[38;5;34m0\u001b[0m │ flatten[\u001b[38;5;34m0\u001b[0m][\u001b[38;5;34m0\u001b[0m],    │\n",
       "│ (\u001b[38;5;33mConcatenate\u001b[0m)       │                   │            │ flatten_1[\u001b[38;5;34m0\u001b[0m][\u001b[38;5;34m0\u001b[0m]   │\n",
       "├─────────────────────┼───────────────────┼────────────┼───────────────────┤\n",
       "│ dense (\u001b[38;5;33mDense\u001b[0m)       │ (\u001b[38;5;45mNone\u001b[0m, \u001b[38;5;34m128\u001b[0m)       │     \u001b[38;5;34m12,928\u001b[0m │ concatenate[\u001b[38;5;34m0\u001b[0m][\u001b[38;5;34m0\u001b[0m] │\n",
       "├─────────────────────┼───────────────────┼────────────┼───────────────────┤\n",
       "│ dense_1 (\u001b[38;5;33mDense\u001b[0m)     │ (\u001b[38;5;45mNone\u001b[0m, \u001b[38;5;34m64\u001b[0m)        │      \u001b[38;5;34m8,256\u001b[0m │ dense[\u001b[38;5;34m0\u001b[0m][\u001b[38;5;34m0\u001b[0m]       │\n",
       "├─────────────────────┼───────────────────┼────────────┼───────────────────┤\n",
       "│ Output (\u001b[38;5;33mDense\u001b[0m)      │ (\u001b[38;5;45mNone\u001b[0m, \u001b[38;5;34m1\u001b[0m)         │         \u001b[38;5;34m65\u001b[0m │ dense_1[\u001b[38;5;34m0\u001b[0m][\u001b[38;5;34m0\u001b[0m]     │\n",
       "└─────────────────────┴───────────────────┴────────────┴───────────────────┘\n"
      ]
     },
     "metadata": {},
     "output_type": "display_data"
    },
    {
     "data": {
      "text/html": [
       "<pre style=\"white-space:pre;overflow-x:auto;line-height:normal;font-family:Menlo,'DejaVu Sans Mono',consolas,'Courier New',monospace\"><span style=\"font-weight: bold\"> Total params: </span><span style=\"color: #00af00; text-decoration-color: #00af00\">298,199</span> (1.14 MB)\n",
       "</pre>\n"
      ],
      "text/plain": [
       "\u001b[1m Total params: \u001b[0m\u001b[38;5;34m298,199\u001b[0m (1.14 MB)\n"
      ]
     },
     "metadata": {},
     "output_type": "display_data"
    },
    {
     "data": {
      "text/html": [
       "<pre style=\"white-space:pre;overflow-x:auto;line-height:normal;font-family:Menlo,'DejaVu Sans Mono',consolas,'Courier New',monospace\"><span style=\"font-weight: bold\"> Trainable params: </span><span style=\"color: #00af00; text-decoration-color: #00af00\">99,399</span> (388.28 KB)\n",
       "</pre>\n"
      ],
      "text/plain": [
       "\u001b[1m Trainable params: \u001b[0m\u001b[38;5;34m99,399\u001b[0m (388.28 KB)\n"
      ]
     },
     "metadata": {},
     "output_type": "display_data"
    },
    {
     "data": {
      "text/html": [
       "<pre style=\"white-space:pre;overflow-x:auto;line-height:normal;font-family:Menlo,'DejaVu Sans Mono',consolas,'Courier New',monospace\"><span style=\"font-weight: bold\"> Non-trainable params: </span><span style=\"color: #00af00; text-decoration-color: #00af00\">0</span> (0.00 B)\n",
       "</pre>\n"
      ],
      "text/plain": [
       "\u001b[1m Non-trainable params: \u001b[0m\u001b[38;5;34m0\u001b[0m (0.00 B)\n"
      ]
     },
     "metadata": {},
     "output_type": "display_data"
    },
    {
     "data": {
      "text/html": [
       "<pre style=\"white-space:pre;overflow-x:auto;line-height:normal;font-family:Menlo,'DejaVu Sans Mono',consolas,'Courier New',monospace\"><span style=\"font-weight: bold\"> Optimizer params: </span><span style=\"color: #00af00; text-decoration-color: #00af00\">198,800</span> (776.57 KB)\n",
       "</pre>\n"
      ],
      "text/plain": [
       "\u001b[1m Optimizer params: \u001b[0m\u001b[38;5;34m198,800\u001b[0m (776.57 KB)\n"
      ]
     },
     "metadata": {},
     "output_type": "display_data"
    },
    {
     "ename": "",
     "evalue": "",
     "output_type": "error",
     "traceback": [
      "\u001b[1;31mnotebook controller is DISPOSED. \n",
      "\u001b[1;31mView Jupyter <a href='command:jupyter.viewOutput'>log</a> for further details."
     ]
    }
   ],
   "source": [
    "model.summary()"
   ]
  },
  {
   "cell_type": "code",
   "execution_count": null,
   "id": "5c484d39-6477-4be7-8a83-b98c84b76600",
   "metadata": {},
   "outputs": [
    {
     "name": "stdout",
     "output_type": "stream",
     "text": [
      "Starting model training...\n",
      "Epoch 1/5\n",
      "\u001b[1m631/631\u001b[0m \u001b[32m━━━━━━━━━━━━━━━━━━━━\u001b[0m\u001b[37m\u001b[0m \u001b[1m4s\u001b[0m 4ms/step - loss: 1.3721 - val_loss: 0.7944\n",
      "Epoch 2/5\n",
      "\u001b[1m631/631\u001b[0m \u001b[32m━━━━━━━━━━━━━━━━━━━━\u001b[0m\u001b[37m\u001b[0m \u001b[1m2s\u001b[0m 3ms/step - loss: 0.7085 - val_loss: 0.7628\n",
      "Epoch 3/5\n",
      "\u001b[1m631/631\u001b[0m \u001b[32m━━━━━━━━━━━━━━━━━━━━\u001b[0m\u001b[37m\u001b[0m \u001b[1m2s\u001b[0m 4ms/step - loss: 0.6568 - val_loss: 0.7640\n",
      "Epoch 4/5\n",
      "\u001b[1m631/631\u001b[0m \u001b[32m━━━━━━━━━━━━━━━━━━━━\u001b[0m\u001b[37m\u001b[0m \u001b[1m2s\u001b[0m 3ms/step - loss: 0.6116 - val_loss: 0.7655\n",
      "Epoch 5/5\n",
      "\u001b[1m631/631\u001b[0m \u001b[32m━━━━━━━━━━━━━━━━━━━━\u001b[0m\u001b[37m\u001b[0m \u001b[1m2s\u001b[0m 3ms/step - loss: 0.5551 - val_loss: 0.7948\n",
      "Model training complete!\n"
     ]
    },
    {
     "ename": "",
     "evalue": "",
     "output_type": "error",
     "traceback": [
      "\u001b[1;31mnotebook controller is DISPOSED. \n",
      "\u001b[1;31mView Jupyter <a href='command:jupyter.viewOutput'>log</a> for further details."
     ]
    }
   ],
   "source": [
    "# This is the training step. It can take a few minutes.\n",
    "# An \"epoch\" is one full pass through the entire training data.\n",
    "print(\"Starting model training...\")\n",
    "\n",
    "history = model.fit(\n",
    "    x=[X_train[:, 0], X_train[:, 1]], # Inputting user indexes and movie indexes separately\n",
    "    y=y_train,\n",
    "    epochs=5,                          # We'll do 5 passes for now to keep it quick\n",
    "    batch_size=128,                    # Process data in batches of 128 ratings at a time\n",
    "    validation_data=([X_test[:, 0], X_test[:, 1]], y_test) # Use the test data to see how well it's learning\n",
    ")\n",
    "\n",
    "print(\"Model training complete!\")"
   ]
  },
  {
   "cell_type": "code",
   "execution_count": null,
   "id": "55792677-6833-4ca1-9183-5eb0a72ab936",
   "metadata": {},
   "outputs": [
    {
     "name": "stdout",
     "output_type": "stream",
     "text": [
      "\u001b[1m631/631\u001b[0m \u001b[32m━━━━━━━━━━━━━━━━━━━━\u001b[0m\u001b[37m\u001b[0m \u001b[1m1s\u001b[0m 1ms/step - loss: 0.7948  \n",
      "Deep Learning Model Test RMSE: 0.8915058264250463\n"
     ]
    },
    {
     "ename": "",
     "evalue": "",
     "output_type": "error",
     "traceback": [
      "\u001b[1;31mnotebook controller is DISPOSED. \n",
      "\u001b[1;31mView Jupyter <a href='command:jupyter.viewOutput'>log</a> for further details."
     ]
    }
   ],
   "source": [
    "import numpy as np\n",
    "\n",
    "# Evaluate the model on the test data\n",
    "loss = model.evaluate(x=[X_test[:, 0], X_test[:, 1]], y=y_test)\n",
    "\n",
    "# The loss is the Mean Squared Error (MSE). We need to take the square root to get the RMSE.\n",
    "rmse = np.sqrt(loss)\n",
    "\n",
    "print(f\"Deep Learning Model Test RMSE: {rmse}\")"
   ]
  },
  {
   "cell_type": "code",
   "execution_count": null,
   "id": "880b8361-cb69-410e-baba-be9d9f396754",
   "metadata": {},
   "outputs": [
    {
     "data": {
      "image/png": "[encoded data removed]",
      "text/plain": [
       "<Figure size 640x480 with 1 Axes>"
      ]
     },
     "metadata": {},
     "output_type": "display_data"
    },
    {
     "ename": "",
     "evalue": "",
     "output_type": "error",
     "traceback": [
      "\u001b[1;31mnotebook controller is DISPOSED. \n",
      "\u001b[1;31mView Jupyter <a href='command:jupyter.viewOutput'>log</a> for further details."
     ]
    }
   ],
   "source": [
    "import matplotlib.pyplot as plt\n",
    "\n",
    "# Get the training history\n",
    "history_dict = history.history\n",
    "\n",
    "# Get the loss values for training and validation\n",
    "train_loss = history_dict['loss']\n",
    "val_loss = history_dict['val_loss']\n",
    "\n",
    "# Get the number of epochs\n",
    "epochs = range(1, len(train_loss) + 1)\n",
    "\n",
    "# Plot the training loss\n",
    "plt.plot(epochs, train_loss, 'bo', label='Training Loss')\n",
    "# Plot the validation loss\n",
    "plt.plot(epochs, val_loss, 'b', label='Validation Loss')\n",
    "\n",
    "plt.title('Training and Validation Loss')\n",
    "plt.xlabel('Epochs')\n",
    "plt.ylabel('Loss (MSE)')\n",
    "plt.legend()\n",
    "plt.show()"
   ]
  },
  {
   "cell_type": "code",
   "execution_count": null,
   "id": "98cf7cfe-1247-4c62-b2d6-0807785fa9e7",
   "metadata": {},
   "outputs": [
    {
     "name": "stdout",
     "output_type": "stream",
     "text": [
      "\u001b[1m297/297\u001b[0m \u001b[32m━━━━━━━━━━━━━━━━━━━━\u001b[0m\u001b[37m\u001b[0m \u001b[1m0s\u001b[0m 926us/step\n",
      "\n",
      "Top 10 Deep Learning Recommendations for User 1:\n",
      "                                                  title  predicted_rating\n",
      "4926                          Advise and Consent (1962)          5.492007\n",
      "5327               Hush... Hush, Sweet Charlotte (1964)          5.445568\n",
      "3652                 History of Future Folk, The (2012)          5.421153\n",
      "3496                       It Happened One Night (1934)          5.414853\n",
      "1926                Guess Who's Coming to Dinner (1967)          5.406212\n",
      "3704                   The Amazing Screw-On Head (2006)          5.397520\n",
      "6810  Anne of Green Gables: The Sequel (a.k.a. Anne ...          5.379745\n",
      "2953     Grave of the Fireflies (Hotaru no haka) (1988)          5.355934\n",
      "4554                                  Killer Joe (2011)          5.355212\n",
      "4201      Alesha Popovich and Tugarin the Dragon (2004)          5.343704\n"
     ]
    },
    {
     "ename": "",
     "evalue": "",
     "output_type": "error",
     "traceback": [
      "\u001b[1;31mnotebook controller is DISPOSED. \n",
      "\u001b[1;31mView Jupyter <a href='command:jupyter.viewOutput'>log</a> for further details."
     ]
    }
   ],
   "source": [
    "# --- Let's get top 10 movie recommendations for a user (e.g., userId=1) ---\n",
    "\n",
    "# The original user ID we want to recommend for\n",
    "user_id_to_recommend = 1\n",
    "\n",
    "# --- Data preparation for prediction ---\n",
    "# Get the model-friendly index for this user\n",
    "user_index = user_to_index[user_id_to_recommend]\n",
    "\n",
    "# Get all movie indices that this user has NOT rated\n",
    "rated_movie_indices = ratings_df[ratings_df['userId'] == user_id_to_recommend]['movie_index'].unique()\n",
    "all_movie_indices = ratings_df['movie_index'].unique()\n",
    "unseen_movie_indices = [idx for idx in all_movie_indices if idx not in rated_movie_indices]\n",
    "\n",
    "# Create the input arrays for the model\n",
    "# We need one array of the user's index, repeated for each unseen movie\n",
    "user_input_array = np.array([user_index] * len(unseen_movie_indices))\n",
    "# And one array of all the unseen movie indices\n",
    "movie_input_array = np.array(unseen_movie_indices)\n",
    "\n",
    "\n",
    "# --- Make Predictions ---\n",
    "predicted_ratings = model.predict([user_input_array, movie_input_array]).flatten()\n",
    "\n",
    "\n",
    "# --- Format the Results ---\n",
    "# Create a DataFrame with the results\n",
    "results_df = pd.DataFrame({\n",
    "    'movie_index': unseen_movie_indices,\n",
    "    'predicted_rating': predicted_ratings\n",
    "})\n",
    "\n",
    "# Sort by predicted rating and get the top 10\n",
    "top_10_recs = results_df.sort_values(by='predicted_rating', ascending=False).head(10)\n",
    "\n",
    "# We need to map the movie_index back to the original movieId and then to the title\n",
    "# Let's create an index-to-movie-title map first\n",
    "index_to_movie_title = pd.Series(movies_df.title.values, index=movies_df.movieId).to_dict()\n",
    "index_to_original_movie_id = {i: original_id for original_id, i in movie_to_index.items()}\n",
    "\n",
    "# Map the indices to titles\n",
    "top_10_recs['movieId'] = top_10_recs['movie_index'].map(index_to_original_movie_id)\n",
    "top_10_recs['title'] = top_10_recs['movieId'].map(index_to_movie_title)\n",
    "\n",
    "\n",
    "# --- Print the Final Recommendations ---\n",
    "print(f\"\\nTop 10 Deep Learning Recommendations for User {user_id_to_recommend}:\")\n",
    "print(top_10_recs[['title', 'predicted_rating']])"
   ]
  },
  {
   "cell_type": "code",
   "execution_count": null,
   "id": "88c96acd-75e3-4b84-80f4-706effb688f0",
   "metadata": {},
   "outputs": [
    {
     "name": "stdout",
     "output_type": "stream",
     "text": [
      "Original MovieLens title: Toy Story (1995)\n",
      "Original Kaggle metadata title: Toy Story\n"
     ]
    },
    {
     "ename": "",
     "evalue": "",
     "output_type": "error",
     "traceback": [
      "\u001b[1;31mnotebook controller is DISPOSED. \n",
      "\u001b[1;31mView Jupyter <a href='command:jupyter.viewOutput'>log</a> for further details."
     ]
    }
   ],
   "source": [
    "# Cell 1: Load the new data\n",
    "import pandas as pd\n",
    "movies_df = pd.read_csv('ml-latest-small/movies.csv')\n",
    "poster_df = pd.read_csv('movies_metadata.csv', low_memory=False)\n",
    "\n",
    "print(\"Original MovieLens title:\", movies_df.iloc[0]['title'])\n",
    "print(\"Original Kaggle metadata title:\", poster_df.iloc[0]['title'])"
   ]
  },
  {
   "cell_type": "code",
   "execution_count": null,
   "id": "d149a315",
   "metadata": {},
   "outputs": [
    {
     "name": "stdout",
     "output_type": "stream",
     "text": [
      "   movieId                             title_x  \\\n",
      "0        1                    Toy Story (1995)   \n",
      "1        2                      Jumanji (1995)   \n",
      "2        3             Grumpier Old Men (1995)   \n",
      "3        4            Waiting to Exhale (1995)   \n",
      "4        5  Father of the Bride Part II (1995)   \n",
      "\n",
      "                                        genres                  clean_title  \\\n",
      "0  Adventure|Animation|Children|Comedy|Fantasy                    Toy Story   \n",
      "1                   Adventure|Children|Fantasy                      Jumanji   \n",
      "2                               Comedy|Romance             Grumpier Old Men   \n",
      "3                         Comedy|Drama|Romance            Waiting to Exhale   \n",
      "4                                       Comedy  Father of the Bride Part II   \n",
      "\n",
      "                       title_y                       poster_path  \n",
      "0                    Toy Story  /rhIRbceoE9lR4veEXuwCC2wARtG.jpg  \n",
      "1                      Jumanji  /vzmL6fP7aPKNKPRTFnZmiUfciyV.jpg  \n",
      "2             Grumpier Old Men  /6ksm1sjKMFLbO7UY2i6G1ju9SML.jpg  \n",
      "3            Waiting to Exhale  /16XOMpEaLWkrcPqSQqhTmeJuqQl.jpg  \n",
      "4  Father of the Bride Part II  /e64sOI48hQXyru7naBFyssKFxVd.jpg  \n"
     ]
    },
    {
     "ename": "",
     "evalue": "",
     "output_type": "error",
     "traceback": [
      "\u001b[1;31mnotebook controller is DISPOSED. \n",
      "\u001b[1;31mView Jupyter <a href='command:jupyter.viewOutput'>log</a> for further details."
     ]
    }
   ],
   "source": [
    "# Cell 2: Clean the titles and merge\n",
    "# Create a new column with cleaned titles in our original movies_df\n",
    "# This code removes the \" (YYYY)\" part from the end of the title string\n",
    "movies_df['clean_title'] = movies_df['title'].str.replace(r'\\s*\\(\\d{4}\\)$', '', regex=True)\n",
    "\n",
    "# Now, we merge the two dataframes based on the cleaned title and the Kaggle title\n",
    "# We only need the poster_path from the new dataframe\n",
    "movies_with_posters_df = pd.merge(\n",
    "    movies_df,\n",
    "    poster_df[['title', 'poster_path']],\n",
    "    left_on='clean_title',\n",
    "    right_on='title',\n",
    "    how='left'\n",
    ")\n",
    "\n",
    "# Let's see if it worked for a few movies\n",
    "print(movies_with_posters_df.head())"
   ]
  },
  {
   "cell_type": "code",
   "execution_count": null,
   "id": "f0b12e37",
   "metadata": {},
   "outputs": [
    {
     "name": "stdout",
     "output_type": "stream",
     "text": [
      "--- Final URLs ---\n",
      "                              title_x  \\\n",
      "0                    Toy Story (1995)   \n",
      "1                      Jumanji (1995)   \n",
      "2             Grumpier Old Men (1995)   \n",
      "3            Waiting to Exhale (1995)   \n",
      "4  Father of the Bride Part II (1995)   \n",
      "\n",
      "                                          poster_url  \n",
      "0  https://image.tmdb.org/t/p/w200/rhIRbceoE9lR4v...  \n",
      "1  https://image.tmdb.org/t/p/w200/vzmL6fP7aPKNKP...  \n",
      "2  https://image.tmdb.org/t/p/w200/6ksm1sjKMFLbO7...  \n",
      "3  https://image.tmdb.org/t/p/w200/16XOMpEaLWkrcP...  \n",
      "4  https://image.tmdb.org/t/p/w200/e64sOI48hQXyru...  \n",
      "\n",
      "--- Example URL for a specific movie ---\n",
      "https://image.tmdb.org/t/p/w200/vzmL6fP7aPKNKPRTFnZmiUfciyV.jpg\n"
     ]
    },
    {
     "ename": "",
     "evalue": "",
     "output_type": "error",
     "traceback": [
      "\u001b[1;31mnotebook controller is DISPOSED. \n",
      "\u001b[1;31mView Jupyter <a href='command:jupyter.viewOutput'>log</a> for further details."
     ]
    }
   ],
   "source": [
    "# --- The NEW, MORE ROBUST \"Cell 3\" ---\n",
    "\n",
    "# The base part of the URL\n",
    "base_poster_url = 'https://image.tmdb.org/t/p/w200'\n",
    "\n",
    "# A function to safely create the full URL\n",
    "def create_full_url(path):\n",
    "    # First, check if the path is valid and not a missing value (NaN)\n",
    "    if pd.isna(path):\n",
    "        return 'https://placehold.co/200x300?text=No+Poster'\n",
    "    else:\n",
    "        # If it's valid, combine it with the base URL\n",
    "        return base_poster_url + str(path)\n",
    "\n",
    "# Apply this function to every row in the 'poster_path' column\n",
    "movies_with_posters_df['poster_url'] = movies_with_posters_df['poster_path'].apply(create_full_url)\n",
    "\n",
    "# Let's check our final result! It should now be perfect.\n",
    "print(\"--- Final URLs ---\")\n",
    "print(movies_with_posters_df.head()[['title_x', 'poster_url']])\n",
    "\n",
    "print(\"\\n--- Example URL for a specific movie ---\")\n",
    "# Let's find the URL for 'Jumanji' to double-check\n",
    "print(movies_with_posters_df[movies_with_posters_df['clean_title'] == 'Jumanji']['poster_url'].values[0])"
   ]
  },
  {
   "cell_type": "code",
   "execution_count": null,
   "id": "13f9f2cd",
   "metadata": {},
   "outputs": [
    {
     "name": "stdout",
     "output_type": "stream",
     "text": [
      "Total movies in our list: 11272\n",
      "Successfully found a poster path for: 8071 movies\n",
      "\n",
      "Rows where poster_path might be missing:\n",
      "    movieId                                            title_x  \\\n",
      "13       11                     American President, The (1995)   \n",
      "39       29  City of Lost Children, The (Cité des enfants p...   \n",
      "40       30  Shanghai Triad (Yao a yao yao dao waipo qiao) ...   \n",
      "42       32          Twelve Monkeys (a.k.a. 12 Monkeys) (1995)   \n",
      "58       46               How to Make an American Quilt (1995)   \n",
      "\n",
      "                                    genres  \\\n",
      "13                    Comedy|Drama|Romance   \n",
      "39  Adventure|Drama|Fantasy|Mystery|Sci-Fi   \n",
      "40                             Crime|Drama   \n",
      "42                 Mystery|Sci-Fi|Thriller   \n",
      "58                           Drama|Romance   \n",
      "\n",
      "                                          clean_title title_y poster_path  \\\n",
      "13                            American President, The     NaN         NaN   \n",
      "39  City of Lost Children, The (Cité des enfants p...     NaN         NaN   \n",
      "40      Shanghai Triad (Yao a yao yao dao waipo qiao)     NaN         NaN   \n",
      "42                 Twelve Monkeys (a.k.a. 12 Monkeys)     NaN         NaN   \n",
      "58                      How to Make an American Quilt     NaN         NaN   \n",
      "\n",
      "                                     poster_url  \n",
      "13  https://placehold.co/200x300?text=No+Poster  \n",
      "39  https://placehold.co/200x300?text=No+Poster  \n",
      "40  https://placehold.co/200x300?text=No+Poster  \n",
      "42  https://placehold.co/200x300?text=No+Poster  \n",
      "58  https://placehold.co/200x300?text=No+Poster  \n"
     ]
    },
    {
     "ename": "",
     "evalue": "",
     "output_type": "error",
     "traceback": [
      "\u001b[1;31mnotebook controller is DISPOSED. \n",
      "\u001b[1;31mView Jupyter <a href='command:jupyter.viewOutput'>log</a> for further details."
     ]
    }
   ],
   "source": [
    "# This code is for your Jupyter Notebook\n",
    "\n",
    "# (Make sure you've run the previous cell that creates movies_with_posters_df)\n",
    "successful_matches = movies_with_posters_df['poster_path'].notna().sum()\n",
    "total_movies = len(movies_with_posters_df)\n",
    "\n",
    "print(f\"Total movies in our list: {total_movies}\")\n",
    "print(f\"Successfully found a poster path for: {successful_matches} movies\")\n",
    "\n",
    "# Let's see the first few rows where the poster_path might be missing\n",
    "print(\"\\nRows where poster_path might be missing:\")\n",
    "print(movies_with_posters_df[movies_with_posters_df['poster_path'].isna()].head())"
   ]
  },
  {
   "cell_type": "code",
   "execution_count": null,
   "id": "a114f60e",
   "metadata": {},
   "outputs": [
    {
     "name": "stdout",
     "output_type": "stream",
     "text": [
      "object\n",
      "0    /rhIRbceoE9lR4veEXuwCC2wARtG.jpg\n",
      "1    /vzmL6fP7aPKNKPRTFnZmiUfciyV.jpg\n",
      "2    /6ksm1sjKMFLbO7UY2i6G1ju9SML.jpg\n",
      "3    /16XOMpEaLWkrcPqSQqhTmeJuqQl.jpg\n",
      "4    /e64sOI48hQXyru7naBFyssKFxVd.jpg\n",
      "Name: poster_path, dtype: object\n"
     ]
    },
    {
     "ename": "",
     "evalue": "",
     "output_type": "error",
     "traceback": [
      "\u001b[1;31mnotebook controller is DISPOSED. \n",
      "\u001b[1;31mView Jupyter <a href='command:jupyter.viewOutput'>log</a> for further details."
     ]
    }
   ],
   "source": [
    "# Print the data type and first 5 values of the poster_path column\n",
    "print(movies_with_posters_df['poster_path'].dtype)\n",
    "print(movies_with_posters_df['poster_path'].head())"
   ]
  },
  {
   "cell_type": "code",
   "execution_count": null,
   "id": "3cdf04f5",
   "metadata": {},
   "outputs": [
    {
     "name": "stdout",
     "output_type": "stream",
     "text": [
      "Successfully matched 9552 posters using the ID method!\n",
      "                                title  \\\n",
      "0                    Toy Story (1995)   \n",
      "1                      Jumanji (1995)   \n",
      "2             Grumpier Old Men (1995)   \n",
      "3            Waiting to Exhale (1995)   \n",
      "4  Father of the Bride Part II (1995)   \n",
      "\n",
      "                                          poster_url  \n",
      "0  https://image.tmdb.org/t/p/w200/rhIRbceoE9lR4v...  \n",
      "1  https://image.tmdb.org/t/p/w200/vzmL6fP7aPKNKP...  \n",
      "2  https://image.tmdb.org/t/p/w200/6ksm1sjKMFLbO7...  \n",
      "3  https://image.tmdb.org/t/p/w200/16XOMpEaLWkrcP...  \n",
      "4  https://image.tmdb.org/t/p/w200/e64sOI48hQXyru...  \n"
     ]
    },
    {
     "ename": "",
     "evalue": "",
     "output_type": "error",
     "traceback": [
      "\u001b[1;31mnotebook controller is DISPOSED. \n",
      "\u001b[1;31mView Jupyter <a href='command:jupyter.viewOutput'>log</a> for further details."
     ]
    }
   ],
   "source": [
    "# Cell 1: Load ALL the necessary files\n",
    "import pandas as pd\n",
    "\n",
    "movies_df = pd.read_csv('ml-latest-small/movies.csv')\n",
    "ratings_df = pd.read_csv('ml-latest-small/ratings.csv')\n",
    "links_df = pd.read_csv('ml-latest-small/links.csv')\n",
    "poster_df = pd.read_csv('movies_metadata.csv', low_memory=False)\n",
    "\n",
    "# Cell 2: The ROBUST merging process using IDs\n",
    "# Step A: Prepare the poster_df. The 'id' column can have bad data, so we clean it.\n",
    "# We convert 'id' to a numeric type, and any errors will become 'NaN'\n",
    "poster_df['id'] = pd.to_numeric(poster_df['id'], errors='coerce')\n",
    "# We drop any rows that had a bad id\n",
    "poster_df.dropna(subset=['id'], inplace=True)\n",
    "# Convert the 'id' column to integer\n",
    "poster_df['id'] = poster_df['id'].astype(int)\n",
    "\n",
    "# Step B: Merge our original movies_df with the links_df to get the 'tmdbId'\n",
    "movies_with_tmdb_id = pd.merge(movies_df, links_df, on='movieId')\n",
    "\n",
    "# Step C: Now merge this with the poster_df using the IDs!\n",
    "# left_on='tmdbId' and right_on='id'\n",
    "final_movies_df = pd.merge(\n",
    "    movies_with_tmdb_id,\n",
    "    poster_df[['id', 'poster_path']],\n",
    "    left_on='tmdbId',\n",
    "    right_on='id',\n",
    "    how='left'\n",
    ")\n",
    "\n",
    "# Step D: Create the full poster URL using our safe function\n",
    "base_poster_url = 'https://image.tmdb.org/t/p/w200'\n",
    "def create_full_url(path):\n",
    "    if isinstance(path, str) and path.startswith('/') and path.endswith('.jpg'):\n",
    "        return base_poster_url + path\n",
    "    else:\n",
    "        return 'https://placehold.co/200x300?text=No+Poster'\n",
    "        \n",
    "final_movies_df['poster_url'] = final_movies_df['poster_path'].apply(create_full_url)\n",
    "\n",
    "\n",
    "# Step E: Let's verify our success!\n",
    "successful_matches = final_movies_df['poster_url'].str.contains('tmdb.org').sum()\n",
    "print(f\"Successfully matched {successful_matches} posters using the ID method!\")\n",
    "print(final_movies_df.head()[['title', 'poster_url']])"
   ]
  },
  {
   "cell_type": "code",
   "execution_count": null,
   "id": "350be63a",
   "metadata": {},
   "outputs": [
    {
     "name": "stdout",
     "output_type": "stream",
     "text": [
      "Loading all original data files...\n",
      "Data loading complete.\n",
      "Merging datasets...\n",
      "Merging complete.\n",
      "Verifying poster links... This will take several minutes. Please be patient.\n"
     ]
    },
    {
     "name": "stderr",
     "output_type": "stream",
     "text": [
      "Checking links: 100%|██████████| 9753/9753 [2:26:20<00:00,  1.11it/s]     "
     ]
    },
    {
     "name": "stdout",
     "output_type": "stream",
     "text": [
      "Link verification complete!\n",
      "Original movie count: 9753. Cleaned movie count: 967\n",
      "Original ratings: 100836. Cleaned ratings: 8299\n",
      "\n",
      "SUCCESS! You now have 'movies_clean_final.csv' and 'ratings_clean_final.csv'.\n",
      "These files contain ONLY data with working posters. Your app will now be fast and 100% visual.\n"
     ]
    },
    {
     "name": "stderr",
     "output_type": "stream",
     "text": [
      "\n"
     ]
    },
    {
     "ename": "",
     "evalue": "",
     "output_type": "error",
     "traceback": [
      "\u001b[1;31mnotebook controller is DISPOSED. \n",
      "\u001b[1;31mView Jupyter <a href='command:jupyter.viewOutput'>log</a> for further details."
     ]
    }
   ],
   "source": [
    "import pandas as pd\n",
    "import requests\n",
    "from tqdm import tqdm\n",
    "import time\n",
    "\n",
    "# --- 1. Load All ORIGINAL Data Files ---\n",
    "print(\"Loading all original data files...\")\n",
    "movies_df_original = pd.read_csv('ml-latest-small/movies.csv')\n",
    "ratings_df = pd.read_csv('ml-latest-small/ratings.csv')\n",
    "links_df = pd.read_csv('ml-latest-small/links.csv')\n",
    "poster_df = pd.read_csv('movies_metadata.csv', low_memory=False)\n",
    "print(\"Data loading complete.\")\n",
    "\n",
    "# --- 2. The ROBUST ID-Based Merging Process ---\n",
    "print(\"Merging datasets...\")\n",
    "poster_df['id'] = pd.to_numeric(poster_df['id'], errors='coerce')\n",
    "poster_df.dropna(subset=['id'], inplace=True)\n",
    "poster_df['id'] = poster_df['id'].astype(int)\n",
    "movies_with_tmdb_id = pd.merge(movies_df_original, links_df, on='movieId')\n",
    "movies_df = pd.merge(\n",
    "    movies_with_tmdb_id,\n",
    "    poster_df[['id', 'poster_path']],\n",
    "    left_on='tmdbId',\n",
    "    right_on='id',\n",
    "    how='left'\n",
    ")\n",
    "print(\"Merging complete.\")\n",
    "\n",
    "# --- 3. The Live URL Checker Function ---\n",
    "base_poster_url = 'https://image.tmdb.org/t/p/w200'\n",
    "placeholder_url = 'PLACEHOLDER' # We just need a unique tag to filter by\n",
    "\n",
    "def check_and_create_url(path):\n",
    "    if isinstance(path, str) and path.startswith('/') and path.endswith('.jpg'):\n",
    "        full_url = base_poster_url + path\n",
    "        try:\n",
    "            # Send a HEAD request (fast, just checks headers)\n",
    "            response = requests.head(full_url, timeout=2)\n",
    "            if response.status_code == 200:\n",
    "                # The link is ALIVE! Return the full URL.\n",
    "                return full_url\n",
    "        except requests.RequestException:\n",
    "            pass\n",
    "    # For all failed checks, missing data, and dead links, return our tag\n",
    "    return placeholder_url\n",
    "\n",
    "# --- 4. Run the Link Checker ---\n",
    "# This is the slow part. It will check all 9,552 links.\n",
    "print(\"Verifying poster links... This will take several minutes. Please be patient.\")\n",
    "tqdm.pandas(desc=\"Checking links\")\n",
    "movies_df['poster_url'] = movies_df['poster_path'].progress_apply(check_and_create_url)\n",
    "print(\"Link verification complete!\")\n",
    "\n",
    "# --- 5. Implement YOUR Plan: Filter Everything ---\n",
    "# Keep only the movies that have a real, working poster\n",
    "clean_movies_df = movies_df[movies_df['poster_url'] != placeholder_url].copy()\n",
    "print(f\"Original movie count: {len(movies_df)}. Cleaned movie count: {len(clean_movies_df)}\")\n",
    "\n",
    "# Now, filter the ratings to ONLY include ratings for these clean movies\n",
    "valid_movie_ids = clean_movies_df['movieId'].unique()\n",
    "clean_ratings_df = ratings_df[ratings_df['movieId'].isin(valid_movie_ids)].copy()\n",
    "print(f\"Original ratings: {len(ratings_df)}. Cleaned ratings: {len(clean_ratings_df)}\")\n",
    "\n",
    "# --- 6. Save the Final, Perfect Files! ---\n",
    "clean_movies_df.to_csv('movies_clean_final.csv', index=False)\n",
    "clean_ratings_df.to_csv('ratings_clean_final.csv', index=False)\n",
    "\n",
    "print(\"\\nSUCCESS! You now have 'movies_clean_final.csv' and 'ratings_clean_final.csv'.\")\n",
    "print(\"These files contain ONLY data with working posters. Your app will now be fast and 100% visual.\")"
   ]
  },
  {
   "cell_type": "code",
   "execution_count": null,
   "id": "17b35569",
   "metadata": {},
   "outputs": [
    {
     "name": "stdout",
     "output_type": "stream",
     "text": [
      "Libraries loaded.\n",
      "Clean data files loaded successfully.\n",
      "Data is prepped and split for training.\n",
      "Model has been successfully rebuilt and compiled.\n",
      "\n",
      "--- ALL READY! ---\n"
     ]
    },
    {
     "ename": "",
     "evalue": "",
     "output_type": "error",
     "traceback": [
      "\u001b[1;31mnotebook controller is DISPOSED. \n",
      "\u001b[1;31mView Jupyter <a href='command:jupyter.viewOutput'>log</a> for further details."
     ]
    }
   ],
   "source": [
    "# --- 1. Load All Necessary Libraries ---\n",
    "import pandas as pd\n",
    "import numpy as np\n",
    "import matplotlib.pyplot as plt\n",
    "from sklearn.model_selection import train_test_split\n",
    "from tensorflow.keras.models import Model\n",
    "from tensorflow.keras.layers import Input, Embedding, Flatten, Concatenate, Dense\n",
    "from tensorflow.keras.optimizers import Adam\n",
    "\n",
    "print(\"Libraries loaded.\")\n",
    "\n",
    "# --- 2. Load Your PERFECTLY CLEAN Final Data Files ---\n",
    "# (This assumes 'movies_clean_final.csv' and 'ratings_clean_final.csv' are in your folder)\n",
    "try:\n",
    "    movies_df = pd.read_csv('movies_clean_final.csv')\n",
    "    ratings_df = pd.read_csv('ratings_clean_final.csv')\n",
    "    print(\"Clean data files loaded successfully.\")\n",
    "except FileNotFoundError:\n",
    "    print(\"ERROR: Could not find 'movies_clean_final.csv' or 'ratings_clean_final.csv'.\")\n",
    "    print(\"Please make sure you have successfully run the 'Data Cleaning' script first.\")\n",
    "\n",
    "# --- 3. Prepare Data for the Model (Same as in your app) ---\n",
    "user_ids = ratings_df['userId'].unique().tolist()\n",
    "movie_ids = ratings_df['movieId'].unique().tolist()\n",
    "\n",
    "user_to_index = {original_id: i for i, original_id in enumerate(user_ids)}\n",
    "movie_to_index = {original_id: i for i, original_id in enumerate(movie_ids)}\n",
    "\n",
    "ratings_df['user_index'] = ratings_df['userId'].map(user_to_index)\n",
    "ratings_df['movie_index'] = ratings_df['movieId'].map(movie_to_index)\n",
    "\n",
    "n_users = len(user_to_index)\n",
    "n_movies = len(movie_to_index)\n",
    "\n",
    "# Prepare the inputs (X) and output (y)\n",
    "X = ratings_df[['user_index', 'movie_index']].values\n",
    "y = ratings_df['rating'].values\n",
    "\n",
    "# Split into training and testing sets (This is what our experiment needs!)\n",
    "X_train, X_test, y_train, y_test = train_test_split(X, y, test_size=0.2, random_state=42)\n",
    "\n",
    "print(\"Data is prepped and split for training.\")\n",
    "\n",
    "# --- 4. Re-Build the Model Architecture ---\n",
    "# We have to create the 'model' variable again before we can train it\n",
    "embedding_size = 50\n",
    "\n",
    "user_input = Input(shape=[1], name='UserInput')\n",
    "user_embedding = Embedding(input_dim=n_users, output_dim=embedding_size, name='UserEmbedding')(user_input)\n",
    "user_vec = Flatten()(user_embedding)\n",
    "\n",
    "movie_input = Input(shape=[1], name='MovieInput')\n",
    "movie_embedding = Embedding(input_dim=n_movies, output_dim=embedding_size, name='MovieEmbedding')(movie_input)\n",
    "movie_vec = Flatten()(movie_embedding)\n",
    "\n",
    "concat = Concatenate()([user_vec, movie_vec])\n",
    "\n",
    "dense = Dense(128, activation='relu')(concat)\n",
    "dense = Dense(64, activation='relu')(dense)\n",
    "\n",
    "output = Dense(1, name='Output')(dense)\n",
    "\n",
    "model = Model([user_input, movie_input], output)\n",
    "\n",
    "# Compile the model so it's ready to train\n",
    "model.compile(optimizer=Adam(learning_rate=0.001), loss='mean_squared_error')\n",
    "\n",
    "print(\"Model has been successfully rebuilt and compiled.\")\n",
    "print(\"\\n--- ALL READY! ---\")"
   ]
  },
  {
   "cell_type": "code",
   "execution_count": null,
   "id": "1e02f492",
   "metadata": {},
   "outputs": [
    {
     "name": "stdout",
     "output_type": "stream",
     "text": [
      "Starting a long training experiment...\n",
      "Epoch 1/50\n",
      "\u001b[1m52/52\u001b[0m \u001b[32m━━━━━━━━━━━━━━━━━━━━\u001b[0m\u001b[37m\u001b[0m \u001b[1m1s\u001b[0m 5ms/step - loss: 6.3910 - val_loss: 1.1222\n",
      "Epoch 2/50\n",
      "\u001b[1m52/52\u001b[0m \u001b[32m━━━━━━━━━━━━━━━━━━━━\u001b[0m\u001b[37m\u001b[0m \u001b[1m0s\u001b[0m 3ms/step - loss: 0.9235 - val_loss: 0.8479\n",
      "Epoch 3/50\n",
      "\u001b[1m52/52\u001b[0m \u001b[32m━━━━━━━━━━━━━━━━━━━━\u001b[0m\u001b[37m\u001b[0m \u001b[1m0s\u001b[0m 2ms/step - loss: 0.7160 - val_loss: 0.8173\n",
      "Epoch 4/50\n",
      "\u001b[1m52/52\u001b[0m \u001b[32m━━━━━━━━━━━━━━━━━━━━\u001b[0m\u001b[37m\u001b[0m \u001b[1m0s\u001b[0m 2ms/step - loss: 0.6560 - val_loss: 0.8190\n",
      "Epoch 5/50\n",
      "\u001b[1m52/52\u001b[0m \u001b[32m━━━━━━━━━━━━━━━━━━━━\u001b[0m\u001b[37m\u001b[0m \u001b[1m0s\u001b[0m 2ms/step - loss: 0.6278 - val_loss: 0.8200\n",
      "Epoch 6/50\n",
      "\u001b[1m52/52\u001b[0m \u001b[32m━━━━━━━━━━━━━━━━━━━━\u001b[0m\u001b[37m\u001b[0m \u001b[1m0s\u001b[0m 2ms/step - loss: 0.6125 - val_loss: 0.8285\n",
      "Epoch 7/50\n",
      "\u001b[1m52/52\u001b[0m \u001b[32m━━━━━━━━━━━━━━━━━━━━\u001b[0m\u001b[37m\u001b[0m \u001b[1m0s\u001b[0m 2ms/step - loss: 0.6010 - val_loss: 0.8194\n",
      "Epoch 8/50\n",
      "\u001b[1m52/52\u001b[0m \u001b[32m━━━━━━━━━━━━━━━━━━━━\u001b[0m\u001b[37m\u001b[0m \u001b[1m0s\u001b[0m 2ms/step - loss: 0.5909 - val_loss: 0.8202\n",
      "Epoch 9/50\n",
      "\u001b[1m52/52\u001b[0m \u001b[32m━━━━━━━━━━━━━━━━━━━━\u001b[0m\u001b[37m\u001b[0m \u001b[1m0s\u001b[0m 2ms/step - loss: 0.5804 - val_loss: 0.8288\n",
      "Epoch 10/50\n",
      "\u001b[1m52/52\u001b[0m \u001b[32m━━━━━━━━━━━━━━━━━━━━\u001b[0m\u001b[37m\u001b[0m \u001b[1m0s\u001b[0m 2ms/step - loss: 0.5736 - val_loss: 0.8306\n",
      "Epoch 11/50\n",
      "\u001b[1m52/52\u001b[0m \u001b[32m━━━━━━━━━━━━━━━━━━━━\u001b[0m\u001b[37m\u001b[0m \u001b[1m0s\u001b[0m 2ms/step - loss: 0.5613 - val_loss: 0.8221\n",
      "Epoch 12/50\n",
      "\u001b[1m52/52\u001b[0m \u001b[32m━━━━━━━━━━━━━━━━━━━━\u001b[0m\u001b[37m\u001b[0m \u001b[1m0s\u001b[0m 2ms/step - loss: 0.5425 - val_loss: 0.8141\n",
      "Epoch 13/50\n",
      "\u001b[1m52/52\u001b[0m \u001b[32m━━━━━━━━━━━━━━━━━━━━\u001b[0m\u001b[37m\u001b[0m \u001b[1m0s\u001b[0m 2ms/step - loss: 0.5231 - val_loss: 0.8188\n",
      "Epoch 14/50\n",
      "\u001b[1m52/52\u001b[0m \u001b[32m━━━━━━━━━━━━━━━━━━━━\u001b[0m\u001b[37m\u001b[0m \u001b[1m0s\u001b[0m 2ms/step - loss: 0.4940 - val_loss: 0.8260\n",
      "Epoch 15/50\n",
      "\u001b[1m52/52\u001b[0m \u001b[32m━━━━━━━━━━━━━━━━━━━━\u001b[0m\u001b[37m\u001b[0m \u001b[1m0s\u001b[0m 3ms/step - loss: 0.4602 - val_loss: 0.8279\n",
      "Epoch 16/50\n",
      "\u001b[1m52/52\u001b[0m \u001b[32m━━━━━━━━━━━━━━━━━━━━\u001b[0m\u001b[37m\u001b[0m \u001b[1m0s\u001b[0m 2ms/step - loss: 0.4178 - val_loss: 0.8535\n",
      "Epoch 17/50\n",
      "\u001b[1m52/52\u001b[0m \u001b[32m━━━━━━━━━━━━━━━━━━━━\u001b[0m\u001b[37m\u001b[0m \u001b[1m0s\u001b[0m 2ms/step - loss: 0.3727 - val_loss: 0.8670\n",
      "Epoch 18/50\n",
      "\u001b[1m52/52\u001b[0m \u001b[32m━━━━━━━━━━━━━━━━━━━━\u001b[0m\u001b[37m\u001b[0m \u001b[1m0s\u001b[0m 2ms/step - loss: 0.3253 - val_loss: 0.8876\n",
      "Epoch 19/50\n",
      "\u001b[1m52/52\u001b[0m \u001b[32m━━━━━━━━━━━━━━━━━━━━\u001b[0m\u001b[37m\u001b[0m \u001b[1m0s\u001b[0m 2ms/step - loss: 0.2834 - val_loss: 0.8997\n",
      "Epoch 20/50\n",
      "\u001b[1m52/52\u001b[0m \u001b[32m━━━━━━━━━━━━━━━━━━━━\u001b[0m\u001b[37m\u001b[0m \u001b[1m0s\u001b[0m 2ms/step - loss: 0.2487 - val_loss: 0.9367\n",
      "Epoch 21/50\n",
      "\u001b[1m52/52\u001b[0m \u001b[32m━━━━━━━━━━━━━━━━━━━━\u001b[0m\u001b[37m\u001b[0m \u001b[1m0s\u001b[0m 2ms/step - loss: 0.2190 - val_loss: 0.9382\n",
      "Epoch 22/50\n",
      "\u001b[1m52/52\u001b[0m \u001b[32m━━━━━━━━━━━━━━━━━━━━\u001b[0m\u001b[37m\u001b[0m \u001b[1m0s\u001b[0m 2ms/step - loss: 0.1931 - val_loss: 0.9633\n",
      "Epoch 23/50\n",
      "\u001b[1m52/52\u001b[0m \u001b[32m━━━━━━━━━━━━━━━━━━━━\u001b[0m\u001b[37m\u001b[0m \u001b[1m0s\u001b[0m 2ms/step - loss: 0.1655 - val_loss: 0.9902\n",
      "Epoch 24/50\n",
      "\u001b[1m52/52\u001b[0m \u001b[32m━━━━━━━━━━━━━━━━━━━━\u001b[0m\u001b[37m\u001b[0m \u001b[1m0s\u001b[0m 2ms/step - loss: 0.1471 - val_loss: 1.0024\n",
      "Epoch 25/50\n",
      "\u001b[1m52/52\u001b[0m \u001b[32m━━━━━━━━━━━━━━━━━━━━\u001b[0m\u001b[37m\u001b[0m \u001b[1m0s\u001b[0m 2ms/step - loss: 0.1293 - val_loss: 1.0271\n",
      "Epoch 26/50\n",
      "\u001b[1m52/52\u001b[0m \u001b[32m━━━━━━━━━━━━━━━━━━━━\u001b[0m\u001b[37m\u001b[0m \u001b[1m0s\u001b[0m 2ms/step - loss: 0.1160 - val_loss: 1.0249\n",
      "Epoch 27/50\n",
      "\u001b[1m52/52\u001b[0m \u001b[32m━━━━━━━━━━━━━━━━━━━━\u001b[0m\u001b[37m\u001b[0m \u001b[1m0s\u001b[0m 2ms/step - loss: 0.1055 - val_loss: 1.0425\n",
      "Epoch 28/50\n",
      "\u001b[1m52/52\u001b[0m \u001b[32m━━━━━━━━━━━━━━━━━━━━\u001b[0m\u001b[37m\u001b[0m \u001b[1m0s\u001b[0m 2ms/step - loss: 0.0932 - val_loss: 1.0487\n",
      "Epoch 29/50\n",
      "\u001b[1m52/52\u001b[0m \u001b[32m━━━━━━━━━━━━━━━━━━━━\u001b[0m\u001b[37m\u001b[0m \u001b[1m0s\u001b[0m 2ms/step - loss: 0.0826 - val_loss: 1.0628\n",
      "Epoch 30/50\n",
      "\u001b[1m52/52\u001b[0m \u001b[32m━━━━━━━━━━━━━━━━━━━━\u001b[0m\u001b[37m\u001b[0m \u001b[1m0s\u001b[0m 2ms/step - loss: 0.0754 - val_loss: 1.0660\n",
      "Epoch 31/50\n",
      "\u001b[1m52/52\u001b[0m \u001b[32m━━━━━━━━━━━━━━━━━━━━\u001b[0m\u001b[37m\u001b[0m \u001b[1m0s\u001b[0m 2ms/step - loss: 0.0673 - val_loss: 1.0842\n",
      "Epoch 32/50\n",
      "\u001b[1m52/52\u001b[0m \u001b[32m━━━━━━━━━━━━━━━━━━━━\u001b[0m\u001b[37m\u001b[0m \u001b[1m0s\u001b[0m 2ms/step - loss: 0.0607 - val_loss: 1.0944\n",
      "Epoch 33/50\n",
      "\u001b[1m52/52\u001b[0m \u001b[32m━━━━━━━━━━━━━━━━━━━━\u001b[0m\u001b[37m\u001b[0m \u001b[1m0s\u001b[0m 2ms/step - loss: 0.0577 - val_loss: 1.0951\n",
      "Epoch 34/50\n",
      "\u001b[1m52/52\u001b[0m \u001b[32m━━━━━━━━━━━━━━━━━━━━\u001b[0m\u001b[37m\u001b[0m \u001b[1m0s\u001b[0m 2ms/step - loss: 0.0516 - val_loss: 1.1069\n",
      "Epoch 35/50\n",
      "\u001b[1m52/52\u001b[0m \u001b[32m━━━━━━━━━━━━━━━━━━━━\u001b[0m\u001b[37m\u001b[0m \u001b[1m0s\u001b[0m 2ms/step - loss: 0.0471 - val_loss: 1.1143\n",
      "Epoch 36/50\n",
      "\u001b[1m52/52\u001b[0m \u001b[32m━━━━━━━━━━━━━━━━━━━━\u001b[0m\u001b[37m\u001b[0m \u001b[1m0s\u001b[0m 2ms/step - loss: 0.0443 - val_loss: 1.1325\n",
      "Epoch 37/50\n",
      "\u001b[1m52/52\u001b[0m \u001b[32m━━━━━━━━━━━━━━━━━━━━\u001b[0m\u001b[37m\u001b[0m \u001b[1m0s\u001b[0m 2ms/step - loss: 0.0417 - val_loss: 1.1182\n",
      "Epoch 38/50\n",
      "\u001b[1m52/52\u001b[0m \u001b[32m━━━━━━━━━━━━━━━━━━━━\u001b[0m\u001b[37m\u001b[0m \u001b[1m0s\u001b[0m 2ms/step - loss: 0.0401 - val_loss: 1.1175\n",
      "Epoch 39/50\n",
      "\u001b[1m52/52\u001b[0m \u001b[32m━━━━━━━━━━━━━━━━━━━━\u001b[0m\u001b[37m\u001b[0m \u001b[1m0s\u001b[0m 2ms/step - loss: 0.0381 - val_loss: 1.1324\n",
      "Epoch 40/50\n",
      "\u001b[1m52/52\u001b[0m \u001b[32m━━━━━━━━━━━━━━━━━━━━\u001b[0m\u001b[37m\u001b[0m \u001b[1m0s\u001b[0m 2ms/step - loss: 0.0358 - val_loss: 1.1445\n",
      "Epoch 41/50\n",
      "\u001b[1m52/52\u001b[0m \u001b[32m━━━━━━━━━━━━━━━━━━━━\u001b[0m\u001b[37m\u001b[0m \u001b[1m0s\u001b[0m 2ms/step - loss: 0.0321 - val_loss: 1.1392\n",
      "Epoch 42/50\n",
      "\u001b[1m52/52\u001b[0m \u001b[32m━━━━━━━━━━━━━━━━━━━━\u001b[0m\u001b[37m\u001b[0m \u001b[1m0s\u001b[0m 2ms/step - loss: 0.0294 - val_loss: 1.1523\n",
      "Epoch 43/50\n",
      "\u001b[1m52/52\u001b[0m \u001b[32m━━━━━━━━━━━━━━━━━━━━\u001b[0m\u001b[37m\u001b[0m \u001b[1m0s\u001b[0m 2ms/step - loss: 0.0268 - val_loss: 1.1532\n",
      "Epoch 44/50\n",
      "\u001b[1m52/52\u001b[0m \u001b[32m━━━━━━━━━━━━━━━━━━━━\u001b[0m\u001b[37m\u001b[0m \u001b[1m0s\u001b[0m 2ms/step - loss: 0.0260 - val_loss: 1.1582\n",
      "Epoch 45/50\n",
      "\u001b[1m52/52\u001b[0m \u001b[32m━━━━━━━━━━━━━━━━━━━━\u001b[0m\u001b[37m\u001b[0m \u001b[1m0s\u001b[0m 2ms/step - loss: 0.0250 - val_loss: 1.1525\n",
      "Epoch 46/50\n",
      "\u001b[1m52/52\u001b[0m \u001b[32m━━━━━━━━━━━━━━━━━━━━\u001b[0m\u001b[37m\u001b[0m \u001b[1m0s\u001b[0m 2ms/step - loss: 0.0232 - val_loss: 1.1698\n",
      "Epoch 47/50\n",
      "\u001b[1m52/52\u001b[0m \u001b[32m━━━━━━━━━━━━━━━━━━━━\u001b[0m\u001b[37m\u001b[0m \u001b[1m0s\u001b[0m 2ms/step - loss: 0.0222 - val_loss: 1.1609\n",
      "Epoch 48/50\n",
      "\u001b[1m52/52\u001b[0m \u001b[32m━━━━━━━━━━━━━━━━━━━━\u001b[0m\u001b[37m\u001b[0m \u001b[1m0s\u001b[0m 2ms/step - loss: 0.0206 - val_loss: 1.1676\n",
      "Epoch 49/50\n",
      "\u001b[1m52/52\u001b[0m \u001b[32m━━━━━━━━━━━━━━━━━━━━\u001b[0m\u001b[37m\u001b[0m \u001b[1m0s\u001b[0m 2ms/step - loss: 0.0193 - val_loss: 1.1688\n",
      "Epoch 50/50\n",
      "\u001b[1m52/52\u001b[0m \u001b[32m━━━━━━━━━━━━━━━━━━━━\u001b[0m\u001b[37m\u001b[0m \u001b[1m0s\u001b[0m 2ms/step - loss: 0.0186 - val_loss: 1.1660\n",
      "Experiment complete!\n"
     ]
    },
    {
     "ename": "",
     "evalue": "",
     "output_type": "error",
     "traceback": [
      "\u001b[1;31mnotebook controller is DISPOSED. \n",
      "\u001b[1;31mView Jupyter <a href='command:jupyter.viewOutput'>log</a> for further details."
     ]
    }
   ],
   "source": [
    "# (This assumes you have your 'X_train', 'X_test', 'y_train', 'y_test' variables ready)\n",
    "# If you restarted your notebook, you may need to run the data prep cells first.\n",
    "\n",
    "print(\"Starting a long training experiment...\")\n",
    "\n",
    "# We are training for 50 epochs on purpose to watch what happens\n",
    "# We are also saving the 'history' so we can plot it\n",
    "history = model.fit(\n",
    "    x=[X_train[:, 0], X_train[:, 1]], \n",
    "    y=y_train,\n",
    "    epochs=50,                          # Train for a long time\n",
    "    batch_size=128,                     \n",
    "    validation_data=([X_test[:, 0], X_test[:, 1]], y_test), # VERY IMPORTANT: Watch the test data!\n",
    "    verbose=1                           # Set verbose=1 so you can see the progress\n",
    ")\n",
    "\n",
    "print(\"Experiment complete!\")"
   ]
  },
  {
   "cell_type": "code",
   "execution_count": null,
   "id": "76725bd8",
   "metadata": {},
   "outputs": [
    {
     "data": {
      "image/png": "[encoded data removed]",
      "text/plain": [
       "<Figure size 1200x800 with 1 Axes>"
      ]
     },
     "metadata": {},
     "output_type": "display_data"
    },
    {
     "ename": "",
     "evalue": "",
     "output_type": "error",
     "traceback": [
      "\u001b[1;31mnotebook controller is DISPOSED. \n",
      "\u001b[1;31mView Jupyter <a href='command:jupyter.viewOutput'>log</a> for further details."
     ]
    }
   ],
   "source": [
    "import matplotlib.pyplot as plt\n",
    "\n",
    "# Get the training history\n",
    "history_dict = history.history\n",
    "\n",
    "train_loss = history_dict['loss']\n",
    "val_loss = history_dict['val_loss'] # This is the validation loss (on the test data)\n",
    "\n",
    "epochs_range = range(1, len(train_loss) + 1)\n",
    "\n",
    "plt.figure(figsize=(12, 8))\n",
    "plt.plot(epochs_range, train_loss, 'bo', label='Training Loss')  # Blue dots\n",
    "plt.plot(epochs_range, val_loss, 'r', label='Validation Loss') # Red line\n",
    "plt.title('Training and Validation Loss Over 50 Epochs')\n",
    "plt.xlabel('Epochs')\n",
    "plt.ylabel('Loss (MSE)')\n",
    "plt.legend()\n",
    "plt.grid(True)\n",
    "plt.show()"
   ]
  },
  {
   "cell_type": "code",
   "execution_count": null,
   "id": "0b260fa7",
   "metadata": {},
   "outputs": [
    {
     "name": "stdout",
     "output_type": "stream",
     "text": [
      "Loading data from database...\n",
      "Preparing data...\n",
      "Building the model...\n",
      "Training the model... This will take a few minutes...\n",
      "Epoch 1/10\n",
      "\u001b[1m66/66\u001b[0m \u001b[32m━━━━━━━━━━━━━━━━━━━━\u001b[0m\u001b[37m\u001b[0m \u001b[1m1s\u001b[0m 2ms/step - loss: 5.6191  \n",
      "Epoch 2/10\n",
      "\u001b[1m66/66\u001b[0m \u001b[32m━━━━━━━━━━━━━━━━━━━━\u001b[0m\u001b[37m\u001b[0m \u001b[1m0s\u001b[0m 1ms/step - loss: 0.8462\n",
      "Epoch 3/10\n",
      "\u001b[1m66/66\u001b[0m \u001b[32m━━━━━━━━━━━━━━━━━━━━\u001b[0m\u001b[37m\u001b[0m \u001b[1m0s\u001b[0m 1ms/step - loss: 0.7019\n",
      "Epoch 4/10\n",
      "\u001b[1m66/66\u001b[0m \u001b[32m━━━━━━━━━━━━━━━━━━━━\u001b[0m\u001b[37m\u001b[0m \u001b[1m0s\u001b[0m 1ms/step - loss: 0.6614\n",
      "Epoch 5/10\n",
      "\u001b[1m66/66\u001b[0m \u001b[32m━━━━━━━━━━━━━━━━━━━━\u001b[0m\u001b[37m\u001b[0m \u001b[1m0s\u001b[0m 1ms/step - loss: 0.6369\n",
      "Epoch 6/10\n",
      "\u001b[1m66/66\u001b[0m \u001b[32m━━━━━━━━━━━━━━━━━━━━\u001b[0m\u001b[37m\u001b[0m \u001b[1m0s\u001b[0m 1ms/step - loss: 0.6245\n",
      "Epoch 7/10\n",
      "\u001b[1m66/66\u001b[0m \u001b[32m━━━━━━━━━━━━━━━━━━━━\u001b[0m\u001b[37m\u001b[0m \u001b[1m0s\u001b[0m 1ms/step - loss: 0.6168\n",
      "Epoch 8/10\n",
      "\u001b[1m66/66\u001b[0m \u001b[32m━━━━━━━━━━━━━━━━━━━━\u001b[0m\u001b[37m\u001b[0m \u001b[1m0s\u001b[0m 1ms/step - loss: 0.6073\n",
      "Epoch 9/10\n",
      "\u001b[1m66/66\u001b[0m \u001b[32m━━━━━━━━━━━━━━━━━━━━\u001b[0m\u001b[37m\u001b[0m \u001b[1m0s\u001b[0m 1ms/step - loss: 0.5927\n",
      "Epoch 10/10\n",
      "\u001b[1m66/66\u001b[0m \u001b[32m━━━━━━━━━━━━━━━━━━━━\u001b[0m\u001b[37m\u001b[0m \u001b[1m0s\u001b[0m 1ms/step - loss: 0.5800\n",
      "Model training complete!\n",
      "Saving model and data mappings...\n",
      "\n",
      "--- SUCCESS! ---\n",
      "You now have 3 new files:\n",
      "1. recommender_model.keras (Your trained AI)\n",
      "2. user_to_index.json (Your user data map)\n",
      "3. movie_to_index.json (Your movie data map)\n"
     ]
    },
    {
     "ename": "",
     "evalue": "",
     "output_type": "error",
     "traceback": [
      "\u001b[1;31mnotebook controller is DISPOSED. \n",
      "\u001b[1;31mView Jupyter <a href='command:jupyter.viewOutput'>log</a> for further details."
     ]
    }
   ],
   "source": [
    "# Run this in your Jupyter Notebook ONE TIME\n",
    "\n",
    "import pandas as pd\n",
    "import numpy as np\n",
    "import sqlite3\n",
    "import json\n",
    "from tensorflow.keras.models import Model\n",
    "from tensorflow.keras.layers import Input, Embedding, Flatten, Concatenate, Dense\n",
    "from tensorflow.keras.optimizers import Adam\n",
    "\n",
    "print(\"Loading data from database...\")\n",
    "con = sqlite3.connect('movies.db')\n",
    "movies_df = pd.read_sql_query(\"SELECT * FROM movies\", con)\n",
    "ratings_df = pd.read_sql_query(\"SELECT * FROM ratings\", con)\n",
    "con.close()\n",
    "\n",
    "# --- Prepare Data for Deep Learning ---\n",
    "print(\"Preparing data...\")\n",
    "user_ids = ratings_df['userId'].unique().tolist()\n",
    "movie_ids = ratings_df['movieId'].unique().tolist()\n",
    "\n",
    "user_to_index = {original_id: i for i, original_id in enumerate(user_ids)}\n",
    "movie_to_index = {original_id: i for i, original_id in enumerate(movie_ids)}\n",
    "\n",
    "ratings_df['user_index'] = ratings_df['userId'].map(user_to_index)\n",
    "ratings_df['movie_index'] = ratings_df['movieId'].map(movie_to_index)\n",
    "\n",
    "n_users = len(user_to_index)\n",
    "n_movies = len(movie_to_index)\n",
    "\n",
    "X = ratings_df[['user_index', 'movie_index']].values\n",
    "y = ratings_df['rating'].values\n",
    "\n",
    "# --- Build the Model Architecture ---\n",
    "print(\"Building the model...\")\n",
    "embedding_size = 50\n",
    "user_input = Input(shape=[1], name='UserInput')\n",
    "user_embedding = Embedding(input_dim=n_users, output_dim=embedding_size, name='UserEmbedding')(user_input)\n",
    "user_vec = Flatten()(user_embedding)\n",
    "movie_input = Input(shape=[1], name='MovieInput')\n",
    "movie_embedding = Embedding(input_dim=n_movies, output_dim=embedding_size, name='MovieEmbedding')(movie_input)\n",
    "movie_vec = Flatten()(movie_embedding)\n",
    "concat = Concatenate()([user_vec, movie_vec])\n",
    "dense = Dense(128, activation='relu')(concat)\n",
    "dense = Dense(64, activation='relu')(dense)\n",
    "output = Dense(1, name='Output')(dense)\n",
    "model = Model([user_input, movie_input], output)\n",
    "model.compile(optimizer=Adam(learning_rate=0.001), loss='mean_squared_error')\n",
    "\n",
    "# --- Train the Model (10 Epochs) ---\n",
    "print(\"Training the model... This will take a few minutes...\")\n",
    "model.fit(x=[X[:, 0], X[:, 1]], y=y, epochs=10, batch_size=128, verbose=1)\n",
    "print(\"Model training complete!\")\n",
    "\n",
    "# --- SAVE EVERYTHING TO FILES ---\n",
    "print(\"Saving model and data mappings...\")\n",
    "\n",
    "# 1. Save the trained model\n",
    "model.save('recommender_model.keras')\n",
    "\n",
    "# 2. Save the mappings (we need these in the app to make predictions)\n",
    "# We must convert integer keys to strings for JSON\n",
    "user_to_index_str = {str(k): v for k, v in user_to_index.items()}\n",
    "with open('user_to_index.json', 'w') as f:\n",
    "    json.dump(user_to_index_str, f)\n",
    "\n",
    "# We need both mapping directions for movies\n",
    "movie_to_index_str = {str(k): v for k, v in movie_to_index.items()}\n",
    "with open('movie_to_index.json', 'w') as f:\n",
    "    json.dump(movie_to_index_str, f)\n",
    "\n",
    "print(\"\\n--- SUCCESS! ---\")\n",
    "print(\"You now have 3 new files:\")\n",
    "print(\"1. recommender_model.keras (Your trained AI)\")\n",
    "print(\"2. user_to_index.json (Your user data map)\")\n",
    "print(\"3. movie_to_index.json (Your movie data map)\")"
   ]
  },
  {
   "cell_type": "code",
   "execution_count": null,
   "id": "0b533812",
   "metadata": {},
   "outputs": [
    {
     "name": "stdout",
     "output_type": "stream",
     "text": [
      "Loading data from database...\n",
      "Preparing data...\n",
      "Building the model...\n",
      "Training the new, smarter model... This will take a few minutes...\n",
      "Epoch 1/10\n",
      "\u001b[1m66/66\u001b[0m \u001b[32m━━━━━━━━━━━━━━━━━━━━\u001b[0m\u001b[37m\u001b[0m \u001b[1m1s\u001b[0m 2ms/step - loss: 5.5232  \n",
      "Epoch 2/10\n",
      "\u001b[1m66/66\u001b[0m \u001b[32m━━━━━━━━━━━━━━━━━━━━\u001b[0m\u001b[37m\u001b[0m \u001b[1m0s\u001b[0m 1ms/step - loss: 0.8392\n",
      "Epoch 3/10\n",
      "\u001b[1m66/66\u001b[0m \u001b[32m━━━━━━━━━━━━━━━━━━━━\u001b[0m\u001b[37m\u001b[0m \u001b[1m0s\u001b[0m 1ms/step - loss: 0.7050\n",
      "Epoch 4/10\n",
      "\u001b[1m66/66\u001b[0m \u001b[32m━━━━━━━━━━━━━━━━━━━━\u001b[0m\u001b[37m\u001b[0m \u001b[1m0s\u001b[0m 1ms/step - loss: 0.6651\n",
      "Epoch 5/10\n",
      "\u001b[1m66/66\u001b[0m \u001b[32m━━━━━━━━━━━━━━━━━━━━\u001b[0m\u001b[37m\u001b[0m \u001b[1m0s\u001b[0m 1ms/step - loss: 0.6417\n",
      "Epoch 6/10\n",
      "\u001b[1m66/66\u001b[0m \u001b[32m━━━━━━━━━━━━━━━━━━━━\u001b[0m\u001b[37m\u001b[0m \u001b[1m0s\u001b[0m 1ms/step - loss: 0.6304\n",
      "Epoch 7/10\n",
      "\u001b[1m66/66\u001b[0m \u001b[32m━━━━━━━━━━━━━━━━━━━━\u001b[0m\u001b[37m\u001b[0m \u001b[1m0s\u001b[0m 1ms/step - loss: 0.6191\n",
      "Epoch 8/10\n",
      "\u001b[1m66/66\u001b[0m \u001b[32m━━━━━━━━━━━━━━━━━━━━\u001b[0m\u001b[37m\u001b[0m \u001b[1m0s\u001b[0m 1ms/step - loss: 0.6120\n",
      "Epoch 9/10\n",
      "\u001b[1m66/66\u001b[0m \u001b[32m━━━━━━━━━━━━━━━━━━━━\u001b[0m\u001b[37m\u001b[0m \u001b[1m0s\u001b[0m 1ms/step - loss: 0.6037\n",
      "Epoch 10/10\n",
      "\u001b[1m66/66\u001b[0m \u001b[32m━━━━━━━━━━━━━━━━━━━━\u001b[0m\u001b[37m\u001b[0m \u001b[1m0s\u001b[0m 1ms/step - loss: 0.5931\n",
      "Model training complete!\n",
      "Saving new model and data mappings...\n",
      "\n",
      "--- SUCCESS! ---\n",
      "Your AI has been retrained with your new ratings.\n",
      "The files recommender_model.keras, user_to_index.json, and movie_to_index.json have been updated.\n"
     ]
    },
    {
     "ename": "",
     "evalue": "",
     "output_type": "error",
     "traceback": [
      "\u001b[1;31mnotebook controller is DISPOSED. \n",
      "\u001b[1;31mView Jupyter <a href='command:jupyter.viewOutput'>log</a> for further details."
     ]
    }
   ],
   "source": [
    "import pandas as pd\n",
    "import numpy as np\n",
    "import sqlite3\n",
    "import json\n",
    "from tensorflow.keras.models import Model\n",
    "from tensorflow.keras.layers import Input, Embedding, Flatten, Concatenate, Dense\n",
    "from tensorflow.keras.optimizers import Adam\n",
    "\n",
    "print(\"Loading data from database...\")\n",
    "con = sqlite3.connect('movies.db')\n",
    "ratings_df = pd.read_sql_query(\"SELECT * FROM ratings\", con)\n",
    "con.close()\n",
    "\n",
    "# --- Prepare Data for Deep Learning ---\n",
    "print(\"Preparing data...\")\n",
    "user_ids = ratings_df['userId'].unique().tolist() # This will now include your new userId!\n",
    "movie_ids = ratings_df['movieId'].unique().tolist()\n",
    "\n",
    "user_to_index = {original_id: i for i, original_id in enumerate(user_ids)}\n",
    "movie_to_index = {original_id: i for i, original_id in enumerate(movie_ids)}\n",
    "\n",
    "ratings_df['user_index'] = ratings_df['userId'].map(user_to_index)\n",
    "ratings_df['movie_index'] = ratings_df['movieId'].map(movie_to_index)\n",
    "\n",
    "n_users = len(user_to_index)\n",
    "n_movies = len(movie_to_index)\n",
    "\n",
    "X = ratings_df[['user_index', 'movie_index']].values\n",
    "y = ratings_df['rating'].values\n",
    "\n",
    "# --- Build the Model Architecture ---\n",
    "print(\"Building the model...\")\n",
    "embedding_size = 50\n",
    "user_input = Input(shape=[1], name='UserInput')\n",
    "user_embedding = Embedding(input_dim=n_users, output_dim=embedding_size, name='UserEmbedding')(user_input)\n",
    "user_vec = Flatten()(user_embedding)\n",
    "movie_input = Input(shape=[1], name='MovieInput')\n",
    "movie_embedding = Embedding(input_dim=n_movies, output_dim=embedding_size, name='MovieEmbedding')(movie_input)\n",
    "movie_vec = Flatten()(movie_embedding)\n",
    "concat = Concatenate()([user_vec, movie_vec])\n",
    "dense = Dense(128, activation='relu')(concat)\n",
    "dense = Dense(64, activation='relu')(dense)\n",
    "output = Dense(1, name='Output')(dense)\n",
    "model = Model([user_input, movie_input], output)\n",
    "model.compile(optimizer=Adam(learning_rate=0.001), loss='mean_squared_error')\n",
    "\n",
    "# --- Train the Model (Using our ideal 10 Epochs) ---\n",
    "print(\"Training the new, smarter model... This will take a few minutes...\")\n",
    "model.fit(x=[X[:, 0], X[:, 1]], y=y, epochs=10, batch_size=128, verbose=1)\n",
    "print(\"Model training complete!\")\n",
    "\n",
    "# --- SAVE EVERYTHING TO FILES ---\n",
    "print(\"Saving new model and data mappings...\")\n",
    "\n",
    "# 1. Save the newly trained model\n",
    "model.save('recommender_model.keras')\n",
    "\n",
    "# 2. Save the new mappings that now include your user\n",
    "user_to_index_str = {str(k): v for k, v in user_to_index.items()}\n",
    "with open('user_to_index.json', 'w') as f:\n",
    "    json.dump(user_to_index_str, f)\n",
    "\n",
    "movie_to_index_str = {str(k): v for k, v in movie_to_index.items()}\n",
    "with open('movie_to_index.json', 'w') as f:\n",
    "    json.dump(movie_to_index_str, f)\n",
    "\n",
    "print(\"\\n--- SUCCESS! ---\")\n",
    "print(\"Your AI has been retrained with your new ratings.\")\n",
    "print(\"The files recommender_model.keras, user_to_index.json, and movie_to_index.json have been updated.\")"
   ]
  },
  {
   "cell_type": "code",
   "execution_count": null,
   "id": "6a578111",
   "metadata": {},
   "outputs": [
    {
     "name": "stdout",
     "output_type": "stream",
     "text": [
      "Loading data from your CLEANED database...\n",
      "Preparing data...\n",
      "Building the model...\n",
      "Training the new model on the clean data... This will take a few minutes...\n",
      "Epoch 1/10\n",
      "\u001b[1m65/65\u001b[0m \u001b[32m━━━━━━━━━━━━━━━━━━━━\u001b[0m\u001b[37m\u001b[0m \u001b[1m1s\u001b[0m 2ms/step - loss: 5.3754  \n",
      "Epoch 2/10\n",
      "\u001b[1m65/65\u001b[0m \u001b[32m━━━━━━━━━━━━━━━━━━━━\u001b[0m\u001b[37m\u001b[0m \u001b[1m0s\u001b[0m 1ms/step - loss: 0.8309\n",
      "Epoch 3/10\n",
      "\u001b[1m65/65\u001b[0m \u001b[32m━━━━━━━━━━━━━━━━━━━━\u001b[0m\u001b[37m\u001b[0m \u001b[1m0s\u001b[0m 1ms/step - loss: 0.7007\n",
      "Epoch 4/10\n",
      "\u001b[1m65/65\u001b[0m \u001b[32m━━━━━━━━━━━━━━━━━━━━\u001b[0m\u001b[37m\u001b[0m \u001b[1m0s\u001b[0m 1ms/step - loss: 0.6630\n",
      "Epoch 5/10\n",
      "\u001b[1m65/65\u001b[0m \u001b[32m━━━━━━━━━━━━━━━━━━━━\u001b[0m\u001b[37m\u001b[0m \u001b[1m0s\u001b[0m 1ms/step - loss: 0.6410\n",
      "Epoch 6/10\n",
      "\u001b[1m65/65\u001b[0m \u001b[32m━━━━━━━━━━━━━━━━━━━━\u001b[0m\u001b[37m\u001b[0m \u001b[1m0s\u001b[0m 1ms/step - loss: 0.6273\n",
      "Epoch 7/10\n",
      "\u001b[1m65/65\u001b[0m \u001b[32m━━━━━━━━━━━━━━━━━━━━\u001b[0m\u001b[37m\u001b[0m \u001b[1m0s\u001b[0m 1ms/step - loss: 0.6159\n",
      "Epoch 8/10\n",
      "\u001b[1m65/65\u001b[0m \u001b[32m━━━━━━━━━━━━━━━━━━━━\u001b[0m\u001b[37m\u001b[0m \u001b[1m0s\u001b[0m 1ms/step - loss: 0.6056\n",
      "Epoch 9/10\n",
      "\u001b[1m65/65\u001b[0m \u001b[32m━━━━━━━━━━━━━━━━━━━━\u001b[0m\u001b[37m\u001b[0m \u001b[1m0s\u001b[0m 1ms/step - loss: 0.5946\n",
      "Epoch 10/10\n",
      "\u001b[1m65/65\u001b[0m \u001b[32m━━━━━━━━━━━━━━━━━━━━\u001b[0m\u001b[37m\u001b[0m \u001b[1m0s\u001b[0m 1ms/step - loss: 0.5792\n",
      "Model training complete!\n",
      "Saving new model and data mappings...\n",
      "\n",
      "--- SUCCESS! ---\n",
      "Your AI has been retrained on your curated database.\n"
     ]
    },
    {
     "ename": "",
     "evalue": "",
     "output_type": "error",
     "traceback": [
      "\u001b[1;31mnotebook controller is DISPOSED. \n",
      "\u001b[1;31mView Jupyter <a href='command:jupyter.viewOutput'>log</a> for further details."
     ]
    }
   ],
   "source": [
    "import pandas as pd\n",
    "import numpy as np\n",
    "import sqlite3\n",
    "import json\n",
    "from tensorflow.keras.models import Model\n",
    "from tensorflow.keras.layers import Input, Embedding, Flatten, Concatenate, Dense\n",
    "from tensorflow.keras.optimizers import Adam\n",
    "\n",
    "print(\"Loading data from your CLEANED database...\")\n",
    "con = sqlite3.connect('movies.db')\n",
    "# We now load the ratings first to ensure consistency\n",
    "ratings_df = pd.read_sql_query(\"SELECT * FROM ratings\", con)\n",
    "movies_df = pd.read_sql_query(\"SELECT * FROM movies\", con)\n",
    "con.close()\n",
    "\n",
    "# --- Final Data Consistency Check ---\n",
    "# This ensures that we only use ratings for movies that actually exist in our movies_df\n",
    "valid_movie_ids = movies_df['movieId'].unique()\n",
    "ratings_df = ratings_df[ratings_df['movieId'].isin(valid_movie_ids)]\n",
    "\n",
    "# --- Prepare Data for Deep Learning ---\n",
    "print(\"Preparing data...\")\n",
    "user_ids = ratings_df['userId'].unique().tolist()\n",
    "movie_ids = ratings_df['movieId'].unique().tolist()\n",
    "\n",
    "user_to_index = {original_id: i for i, original_id in enumerate(user_ids)}\n",
    "movie_to_index = {original_id: i for i, original_id in enumerate(movie_ids)}\n",
    "\n",
    "ratings_df['user_index'] = ratings_df['userId'].map(user_to_index)\n",
    "ratings_df['movie_index'] = ratings_df['movieId'].map(movie_to_index)\n",
    "\n",
    "n_users = len(user_to_index)\n",
    "n_movies = len(movie_to_index)\n",
    "\n",
    "X = ratings_df[['user_index', 'movie_index']].values\n",
    "y = ratings_df['rating'].values\n",
    "\n",
    "# --- Build the Model Architecture ---\n",
    "print(\"Building the model...\")\n",
    "embedding_size = 50\n",
    "user_input = Input(shape=[1], name='UserInput')\n",
    "user_embedding = Embedding(input_dim=n_users, output_dim=embedding_size, name='UserEmbedding')(user_input)\n",
    "user_vec = Flatten()(user_embedding)\n",
    "movie_input = Input(shape=[1], name='MovieInput')\n",
    "movie_embedding = Embedding(input_dim=n_movies, output_dim=embedding_size, name='MovieEmbedding')(movie_input)\n",
    "movie_vec = Flatten()(movie_embedding)\n",
    "concat = Concatenate()([user_vec, movie_vec])\n",
    "dense = Dense(128, activation='relu')(concat)\n",
    "dense = Dense(64, activation='relu')(dense)\n",
    "output = Dense(1, name='Output')(dense)\n",
    "model = Model([user_input, movie_input], output)\n",
    "model.compile(optimizer=Adam(learning_rate=0.001), loss='mean_squared_error')\n",
    "\n",
    "# --- Train the Model (10 Epochs) ---\n",
    "print(\"Training the new model on the clean data... This will take a few minutes...\")\n",
    "model.fit(x=[X[:, 0], X[:, 1]], y=y, epochs=10, batch_size=128, verbose=1)\n",
    "print(\"Model training complete!\")\n",
    "\n",
    "# --- SAVE EVERYTHING TO FILES ---\n",
    "print(\"Saving new model and data mappings...\")\n",
    "\n",
    "model.save('recommender_model.keras')\n",
    "\n",
    "user_to_index_str = {str(k): v for k, v in user_to_index.items()}\n",
    "with open('user_to_index.json', 'w') as f:\n",
    "    json.dump(user_to_index_str, f)\n",
    "\n",
    "movie_to_index_str = {str(k): v for k, v in movie_to_index.items()}\n",
    "with open('movie_to_index.json', 'w') as f:\n",
    "    json.dump(movie_to_index_str, f)\n",
    "\n",
    "print(\"\\n--- SUCCESS! ---\")\n",
    "print(\"Your AI has been retrained on your curated database.\")"
   ]
  },
  {
   "cell_type": "code",
   "execution_count": null,
   "id": "20527b18",
   "metadata": {},
   "outputs": [
    {
     "ename": "ModuleNotFoundError",
     "evalue": "No module named 'streamlit_authenticator'",
     "output_type": "error",
     "traceback": [
      "\u001b[1;31m---------------------------------------------------------------------------\u001b[0m",
      "\u001b[1;31mModuleNotFoundError\u001b[0m                       Traceback (most recent call last)",
      "Cell \u001b[1;32mIn[1], line 1\u001b[0m\n\u001b[1;32m----> 1\u001b[0m \u001b[38;5;28;01mfrom\u001b[39;00m\u001b[38;5;250m \u001b[39m\u001b[38;5;21;01mstreamlit_authenticator\u001b[39;00m\u001b[38;5;21;01m.\u001b[39;00m\u001b[38;5;21;01mutilities\u001b[39;00m\u001b[38;5;250m \u001b[39m\u001b[38;5;28;01mimport\u001b[39;00m Hasher\n\u001b[0;32m      3\u001b[0m \u001b[38;5;66;03m# We will use 'pass123' as the password for all our demo users.\u001b[39;00m\n\u001b[0;32m      4\u001b[0m hashed_passwords \u001b[38;5;241m=\u001b[39m Hasher\u001b[38;5;241m.\u001b[39mhash_passwords([\u001b[38;5;124m'\u001b[39m\u001b[38;5;124mpass123\u001b[39m\u001b[38;5;124m'\u001b[39m])\n",
      "\u001b[1;31mModuleNotFoundError\u001b[0m: No module named 'streamlit_authenticator'"
     ]
    },
    {
     "ename": "",
     "evalue": "",
     "output_type": "error",
     "traceback": [
      "\u001b[1;31mnotebook controller is DISPOSED. \n",
      "\u001b[1;31mView Jupyter <a href='command:jupyter.viewOutput'>log</a> for further details."
     ]
    }
   ],
   "source": [
    "from streamlit_authenticator.utilities import Hasher\n",
    "\n",
    "# We will use 'pass123' as the password for all our demo users.\n",
    "hashed_passwords = Hasher.hash_passwords(['pass123'])\n",
    "\n",
    "print(\"Copy this entire line (including the brackets and quotes):\")\n",
    "print(hashed_passwords)"
   ]
  },
  {
   "cell_type": "code",
   "execution_count": null,
   "id": "8fc24ce7",
   "metadata": {},
   "outputs": [
    {
     "name": "stdout",
     "output_type": "stream",
     "text": [
      "Collecting streamlit-authenticator\n",
      "  Using cached streamlit_authenticator-0.4.2-py3-none-any.whl.metadata (30 kB)\n",
      "Requirement already satisfied: bcrypt>=3.1.7 in c:\\users\\dell\\anaconda3\\lib\\site-packages (from streamlit-authenticator) (4.3.0)\n",
      "Collecting captcha>=0.5.0 (from streamlit-authenticator)\n",
      "  Using cached captcha-0.7.1-py3-none-any.whl.metadata (2.2 kB)\n",
      "Requirement already satisfied: cryptography>=42.0.5 in c:\\users\\dell\\anaconda3\\lib\\site-packages (from streamlit-authenticator) (44.0.1)\n",
      "Collecting extra-streamlit-components>=0.1.70 (from streamlit-authenticator)\n",
      "  Using cached extra_streamlit_components-0.1.81-py3-none-any.whl.metadata (5.4 kB)\n",
      "Requirement already satisfied: PyJWT>=2.3.0 in c:\\users\\dell\\anaconda3\\lib\\site-packages (from streamlit-authenticator) (2.10.1)\n",
      "Requirement already satisfied: PyYAML>=5.3.1 in c:\\users\\dell\\anaconda3\\lib\\site-packages (from streamlit-authenticator) (6.0.2)\n",
      "Requirement already satisfied: streamlit>=1.37.0 in c:\\users\\dell\\anaconda3\\lib\\site-packages (from streamlit-authenticator) (1.45.1)\n",
      "Requirement already satisfied: Pillow in c:\\users\\dell\\anaconda3\\lib\\site-packages (from captcha>=0.5.0->streamlit-authenticator) (11.1.0)\n",
      "Requirement already satisfied: cffi>=1.12 in c:\\users\\dell\\anaconda3\\lib\\site-packages (from cryptography>=42.0.5->streamlit-authenticator) (1.17.1)\n",
      "Requirement already satisfied: pycparser in c:\\users\\dell\\anaconda3\\lib\\site-packages (from cffi>=1.12->cryptography>=42.0.5->streamlit-authenticator) (2.21)\n",
      "Requirement already satisfied: altair<6,>=4.0 in c:\\users\\dell\\anaconda3\\lib\\site-packages (from streamlit>=1.37.0->streamlit-authenticator) (5.5.0)\n",
      "Requirement already satisfied: blinker<2,>=1.5.0 in c:\\users\\dell\\anaconda3\\lib\\site-packages (from streamlit>=1.37.0->streamlit-authenticator) (1.9.0)\n",
      "Requirement already satisfied: cachetools<6,>=4.0 in c:\\users\\dell\\anaconda3\\lib\\site-packages (from streamlit>=1.37.0->streamlit-authenticator) (5.5.1)\n",
      "Requirement already satisfied: click<9,>=7.0 in c:\\users\\dell\\anaconda3\\lib\\site-packages (from streamlit>=1.37.0->streamlit-authenticator) (8.1.8)\n",
      "Requirement already satisfied: numpy<3,>=1.23 in c:\\users\\dell\\anaconda3\\lib\\site-packages (from streamlit>=1.37.0->streamlit-authenticator) (2.1.3)\n",
      "Requirement already satisfied: packaging<25,>=20 in c:\\users\\dell\\anaconda3\\lib\\site-packages (from streamlit>=1.37.0->streamlit-authenticator) (24.2)\n",
      "Requirement already satisfied: pandas<3,>=1.4.0 in c:\\users\\dell\\anaconda3\\lib\\site-packages (from streamlit>=1.37.0->streamlit-authenticator) (2.2.3)\n",
      "Requirement already satisfied: protobuf<7,>=3.20 in c:\\users\\dell\\anaconda3\\lib\\site-packages (from streamlit>=1.37.0->streamlit-authenticator) (5.29.3)\n",
      "Requirement already satisfied: pyarrow>=7.0 in c:\\users\\dell\\anaconda3\\lib\\site-packages (from streamlit>=1.37.0->streamlit-authenticator) (19.0.0)\n",
      "Requirement already satisfied: requests<3,>=2.27 in c:\\users\\dell\\anaconda3\\lib\\site-packages (from streamlit>=1.37.0->streamlit-authenticator) (2.32.3)\n",
      "Requirement already satisfied: tenacity<10,>=8.1.0 in c:\\users\\dell\\anaconda3\\lib\\site-packages (from streamlit>=1.37.0->streamlit-authenticator) (9.0.0)\n",
      "Requirement already satisfied: toml<2,>=0.10.1 in c:\\users\\dell\\anaconda3\\lib\\site-packages (from streamlit>=1.37.0->streamlit-authenticator) (0.10.2)\n",
      "Requirement already satisfied: typing-extensions<5,>=4.4.0 in c:\\users\\dell\\anaconda3\\lib\\site-packages (from streamlit>=1.37.0->streamlit-authenticator) (4.12.2)\n",
      "Requirement already satisfied: watchdog<7,>=2.1.5 in c:\\users\\dell\\anaconda3\\lib\\site-packages (from streamlit>=1.37.0->streamlit-authenticator) (4.0.2)\n",
      "Requirement already satisfied: gitpython!=3.1.19,<4,>=3.0.7 in c:\\users\\dell\\anaconda3\\lib\\site-packages (from streamlit>=1.37.0->streamlit-authenticator) (3.1.43)\n",
      "Requirement already satisfied: tornado<7,>=6.0.3 in c:\\users\\dell\\anaconda3\\lib\\site-packages (from streamlit>=1.37.0->streamlit-authenticator) (6.5.1)\n",
      "Requirement already satisfied: jinja2 in c:\\users\\dell\\anaconda3\\lib\\site-packages (from altair<6,>=4.0->streamlit>=1.37.0->streamlit-authenticator) (3.1.6)\n",
      "Requirement already satisfied: jsonschema>=3.0 in c:\\users\\dell\\anaconda3\\lib\\site-packages (from altair<6,>=4.0->streamlit>=1.37.0->streamlit-authenticator) (4.23.0)\n",
      "Requirement already satisfied: narwhals>=1.14.2 in c:\\users\\dell\\anaconda3\\lib\\site-packages (from altair<6,>=4.0->streamlit>=1.37.0->streamlit-authenticator) (1.31.0)\n",
      "Requirement already satisfied: colorama in c:\\users\\dell\\anaconda3\\lib\\site-packages (from click<9,>=7.0->streamlit>=1.37.0->streamlit-authenticator) (0.4.6)\n",
      "Requirement already satisfied: gitdb<5,>=4.0.1 in c:\\users\\dell\\anaconda3\\lib\\site-packages (from gitpython!=3.1.19,<4,>=3.0.7->streamlit>=1.37.0->streamlit-authenticator) (4.0.7)\n",
      "Requirement already satisfied: smmap<5,>=3.0.1 in c:\\users\\dell\\anaconda3\\lib\\site-packages (from gitdb<5,>=4.0.1->gitpython!=3.1.19,<4,>=3.0.7->streamlit>=1.37.0->streamlit-authenticator) (4.0.0)\n",
      "Requirement already satisfied: python-dateutil>=2.8.2 in c:\\users\\dell\\anaconda3\\lib\\site-packages (from pandas<3,>=1.4.0->streamlit>=1.37.0->streamlit-authenticator) (2.9.0.post0)\n",
      "Requirement already satisfied: pytz>=2020.1 in c:\\users\\dell\\anaconda3\\lib\\site-packages (from pandas<3,>=1.4.0->streamlit>=1.37.0->streamlit-authenticator) (2024.1)\n",
      "Requirement already satisfied: tzdata>=2022.7 in c:\\users\\dell\\anaconda3\\lib\\site-packages (from pandas<3,>=1.4.0->streamlit>=1.37.0->streamlit-authenticator) (2025.2)\n",
      "Requirement already satisfied: charset-normalizer<4,>=2 in c:\\users\\dell\\anaconda3\\lib\\site-packages (from requests<3,>=2.27->streamlit>=1.37.0->streamlit-authenticator) (3.3.2)\n",
      "Requirement already satisfied: idna<4,>=2.5 in c:\\users\\dell\\anaconda3\\lib\\site-packages (from requests<3,>=2.27->streamlit>=1.37.0->streamlit-authenticator) (3.7)\n",
      "Requirement already satisfied: urllib3<3,>=1.21.1 in c:\\users\\dell\\anaconda3\\lib\\site-packages (from requests<3,>=2.27->streamlit>=1.37.0->streamlit-authenticator) (2.3.0)\n",
      "Requirement already satisfied: certifi>=2017.4.17 in c:\\users\\dell\\anaconda3\\lib\\site-packages (from requests<3,>=2.27->streamlit>=1.37.0->streamlit-authenticator) (2025.8.3)\n",
      "Requirement already satisfied: attrs>=22.2.0 in c:\\users\\dell\\anaconda3\\lib\\site-packages (from jsonschema>=3.0->altair<6,>=4.0->streamlit>=1.37.0->streamlit-authenticator) (24.3.0)\n",
      "Requirement already satisfied: jsonschema-specifications>=2023.03.6 in c:\\users\\dell\\anaconda3\\lib\\site-packages (from jsonschema>=3.0->altair<6,>=4.0->streamlit>=1.37.0->streamlit-authenticator) (2023.7.1)\n",
      "Requirement already satisfied: referencing>=0.28.4 in c:\\users\\dell\\anaconda3\\lib\\site-packages (from jsonschema>=3.0->altair<6,>=4.0->streamlit>=1.37.0->streamlit-authenticator) (0.30.2)\n",
      "Requirement already satisfied: rpds-py>=0.7.1 in c:\\users\\dell\\anaconda3\\lib\\site-packages (from jsonschema>=3.0->altair<6,>=4.0->streamlit>=1.37.0->streamlit-authenticator) (0.22.3)\n",
      "Requirement already satisfied: six>=1.5 in c:\\users\\dell\\anaconda3\\lib\\site-packages (from python-dateutil>=2.8.2->pandas<3,>=1.4.0->streamlit>=1.37.0->streamlit-authenticator) (1.17.0)\n",
      "Requirement already satisfied: MarkupSafe>=2.0 in c:\\users\\dell\\anaconda3\\lib\\site-packages (from jinja2->altair<6,>=4.0->streamlit>=1.37.0->streamlit-authenticator) (3.0.2)\n",
      "Using cached streamlit_authenticator-0.4.2-py3-none-any.whl (43 kB)\n",
      "Using cached captcha-0.7.1-py3-none-any.whl (147 kB)\n",
      "Using cached extra_streamlit_components-0.1.81-py3-none-any.whl (2.3 MB)\n",
      "Installing collected packages: captcha, extra-streamlit-components, streamlit-authenticator\n",
      "\n",
      "   -------------------------- ------------- 2/3 [streamlit-authenticator]\n",
      "   ---------------------------------------- 3/3 [streamlit-authenticator]\n",
      "\n",
      "Successfully installed captcha-0.7.1 extra-streamlit-components-0.1.81 streamlit-authenticator-0.4.2\n"
     ]
    },
    {
     "ename": "",
     "evalue": "",
     "output_type": "error",
     "traceback": [
      "\u001b[1;31mnotebook controller is DISPOSED. \n",
      "\u001b[1;31mView Jupyter <a href='command:jupyter.viewOutput'>log</a> for further details."
     ]
    }
   ],
   "source": [
    "!pip install streamlit-authenticator"
   ]
  },
  {
   "cell_type": "code",
   "execution_count": null,
   "id": "ea4bb5fd",
   "metadata": {},
   "outputs": [
    {
     "name": "stderr",
     "output_type": "stream",
     "text": [
      "2025-10-05 09:49:09.043 WARNING streamlit.runtime.caching.cache_data_api: No runtime found, using MemoryCacheStorageManager\n",
      "2025-10-05 09:49:09.275 WARNING streamlit.runtime.scriptrunner_utils.script_run_context: Thread 'MainThread': missing ScriptRunContext! This warning can be ignored when running in bare mode.\n",
      "2025-10-05 09:49:09.280 WARNING streamlit.runtime.scriptrunner_utils.script_run_context: Thread 'MainThread': missing ScriptRunContext! This warning can be ignored when running in bare mode.\n",
      "2025-10-05 09:49:09.287 WARNING streamlit.runtime.scriptrunner_utils.script_run_context: Thread 'MainThread': missing ScriptRunContext! This warning can be ignored when running in bare mode.\n",
      "2025-10-05 09:49:09.290 WARNING streamlit.runtime.scriptrunner_utils.script_run_context: Thread 'MainThread': missing ScriptRunContext! This warning can be ignored when running in bare mode.\n"
     ]
    },
    {
     "ename": "TypeError",
     "evalue": "list indices must be integers or slices, not str",
     "output_type": "error",
     "traceback": [
      "\u001b[1;31m---------------------------------------------------------------------------\u001b[0m",
      "\u001b[1;31mTypeError\u001b[0m                                 Traceback (most recent call last)",
      "Cell \u001b[1;32mIn[3], line 4\u001b[0m\n\u001b[0;32m      1\u001b[0m \u001b[38;5;28;01mfrom\u001b[39;00m\u001b[38;5;250m \u001b[39m\u001b[38;5;21;01mstreamlit_authenticator\u001b[39;00m\u001b[38;5;21;01m.\u001b[39;00m\u001b[38;5;21;01mutilities\u001b[39;00m\u001b[38;5;250m \u001b[39m\u001b[38;5;28;01mimport\u001b[39;00m Hasher\n\u001b[0;32m      3\u001b[0m \u001b[38;5;66;03m# We will use 'pass123' as the password for all our demo users.\u001b[39;00m\n\u001b[1;32m----> 4\u001b[0m hashed_passwords \u001b[38;5;241m=\u001b[39m Hasher\u001b[38;5;241m.\u001b[39mhash_passwords([\u001b[38;5;124m'\u001b[39m\u001b[38;5;124mpass123\u001b[39m\u001b[38;5;124m'\u001b[39m])\n\u001b[0;32m      6\u001b[0m \u001b[38;5;28mprint\u001b[39m(\u001b[38;5;124m\"\u001b[39m\u001b[38;5;124mCopy this entire line (including the brackets and quotes):\u001b[39m\u001b[38;5;124m\"\u001b[39m)\n\u001b[0;32m      7\u001b[0m \u001b[38;5;28mprint\u001b[39m(hashed_passwords)\n",
      "File \u001b[1;32mc:\\Users\\DELL\\anaconda3\\Lib\\site-packages\\streamlit_authenticator\\utilities\\hasher.py:87\u001b[0m, in \u001b[0;36mHasher.hash_passwords\u001b[1;34m(cls, credentials)\u001b[0m\n\u001b[0;32m     72\u001b[0m \u001b[38;5;129m@classmethod\u001b[39m\n\u001b[0;32m     73\u001b[0m \u001b[38;5;28;01mdef\u001b[39;00m\u001b[38;5;250m \u001b[39m\u001b[38;5;21mhash_passwords\u001b[39m(\u001b[38;5;28mcls\u001b[39m, credentials: Dict[\u001b[38;5;28mstr\u001b[39m, Dict[\u001b[38;5;28mstr\u001b[39m, \u001b[38;5;28mstr\u001b[39m]]) \u001b[38;5;241m-\u001b[39m\u001b[38;5;241m>\u001b[39m Dict[\u001b[38;5;28mstr\u001b[39m, Dict[\u001b[38;5;28mstr\u001b[39m, \u001b[38;5;28mstr\u001b[39m]]:\n\u001b[0;32m     74\u001b[0m \u001b[38;5;250m    \u001b[39m\u001b[38;5;124;03m\"\"\"\u001b[39;00m\n\u001b[0;32m     75\u001b[0m \u001b[38;5;124;03m    Hashes all plain text passwords in a credentials dictionary.\u001b[39;00m\n\u001b[0;32m     76\u001b[0m \n\u001b[1;32m   (...)\u001b[0m\n\u001b[0;32m     85\u001b[0m \u001b[38;5;124;03m        The credentials dictionary with all passwords securely hashed.\u001b[39;00m\n\u001b[0;32m     86\u001b[0m \u001b[38;5;124;03m    \"\"\"\u001b[39;00m\n\u001b[1;32m---> 87\u001b[0m     usernames \u001b[38;5;241m=\u001b[39m credentials[\u001b[38;5;124m'\u001b[39m\u001b[38;5;124musernames\u001b[39m\u001b[38;5;124m'\u001b[39m]\n\u001b[0;32m     89\u001b[0m     \u001b[38;5;28;01mfor\u001b[39;00m _, user \u001b[38;5;129;01min\u001b[39;00m usernames\u001b[38;5;241m.\u001b[39mitems():\n\u001b[0;32m     90\u001b[0m         password \u001b[38;5;241m=\u001b[39m user[\u001b[38;5;124m'\u001b[39m\u001b[38;5;124mpassword\u001b[39m\u001b[38;5;124m'\u001b[39m]\n",
      "\u001b[1;31mTypeError\u001b[0m: list indices must be integers or slices, not str"
     ]
    },
    {
     "ename": "",
     "evalue": "",
     "output_type": "error",
     "traceback": [
      "\u001b[1;31mnotebook controller is DISPOSED. \n",
      "\u001b[1;31mView Jupyter <a href='command:jupyter.viewOutput'>log</a> for further details."
     ]
    }
   ],
   "source": [
    "from streamlit_authenticator.utilities import Hasher\n",
    "\n",
    "# We will use 'pass123' as the password for all our demo users.\n",
    "hashed_passwords = Hasher.hash_passwords(['pass123'])\n",
    "\n",
    "print(\"Copy this entire line (including the brackets and quotes):\")\n",
    "print(hashed_passwords)"
   ]
  },
  {
   "cell_type": "code",
   "execution_count": 5,
   "id": "fce0aa3a",
   "metadata": {},
   "outputs": [
    {
     "ename": "TypeError",
     "evalue": "list indices must be integers or slices, not str",
     "output_type": "error",
     "traceback": [
      "\u001b[1;31m---------------------------------------------------------------------------\u001b[0m",
      "\u001b[1;31mTypeError\u001b[0m                                 Traceback (most recent call last)",
      "Cell \u001b[1;32mIn[5], line 4\u001b[0m\n\u001b[0;32m      1\u001b[0m \u001b[38;5;28;01mfrom\u001b[39;00m\u001b[38;5;250m \u001b[39m\u001b[38;5;21;01mstreamlit_authenticator\u001b[39;00m\u001b[38;5;21;01m.\u001b[39;00m\u001b[38;5;21;01mutilities\u001b[39;00m\u001b[38;5;250m \u001b[39m\u001b[38;5;28;01mimport\u001b[39;00m Hasher\n\u001b[0;32m      3\u001b[0m \u001b[38;5;66;03m# We will use 'pass123' as the password for all our demo users.\u001b[39;00m\n\u001b[1;32m----> 4\u001b[0m hashed_passwords \u001b[38;5;241m=\u001b[39m Hasher\u001b[38;5;241m.\u001b[39mhash_passwords([\u001b[38;5;124m'\u001b[39m\u001b[38;5;124mpass123\u001b[39m\u001b[38;5;124m'\u001b[39m])\n\u001b[0;32m      6\u001b[0m \u001b[38;5;28mprint\u001b[39m(\u001b[38;5;124m\"\u001b[39m\u001b[38;5;124mCopy this entire line (including the brackets and quotes):\u001b[39m\u001b[38;5;124m\"\u001b[39m)\n\u001b[0;32m      7\u001b[0m \u001b[38;5;28mprint\u001b[39m(hashed_passwords)\n",
      "File \u001b[1;32mc:\\Users\\DELL\\anaconda3\\Lib\\site-packages\\streamlit_authenticator\\utilities\\hasher.py:87\u001b[0m, in \u001b[0;36mHasher.hash_passwords\u001b[1;34m(cls, credentials)\u001b[0m\n\u001b[0;32m     72\u001b[0m \u001b[38;5;129m@classmethod\u001b[39m\n\u001b[0;32m     73\u001b[0m \u001b[38;5;28;01mdef\u001b[39;00m\u001b[38;5;250m \u001b[39m\u001b[38;5;21mhash_passwords\u001b[39m(\u001b[38;5;28mcls\u001b[39m, credentials: Dict[\u001b[38;5;28mstr\u001b[39m, Dict[\u001b[38;5;28mstr\u001b[39m, \u001b[38;5;28mstr\u001b[39m]]) \u001b[38;5;241m-\u001b[39m\u001b[38;5;241m>\u001b[39m Dict[\u001b[38;5;28mstr\u001b[39m, Dict[\u001b[38;5;28mstr\u001b[39m, \u001b[38;5;28mstr\u001b[39m]]:\n\u001b[0;32m     74\u001b[0m \u001b[38;5;250m    \u001b[39m\u001b[38;5;124;03m\"\"\"\u001b[39;00m\n\u001b[0;32m     75\u001b[0m \u001b[38;5;124;03m    Hashes all plain text passwords in a credentials dictionary.\u001b[39;00m\n\u001b[0;32m     76\u001b[0m \n\u001b[1;32m   (...)\u001b[0m\n\u001b[0;32m     85\u001b[0m \u001b[38;5;124;03m        The credentials dictionary with all passwords securely hashed.\u001b[39;00m\n\u001b[0;32m     86\u001b[0m \u001b[38;5;124;03m    \"\"\"\u001b[39;00m\n\u001b[1;32m---> 87\u001b[0m     usernames \u001b[38;5;241m=\u001b[39m credentials[\u001b[38;5;124m'\u001b[39m\u001b[38;5;124musernames\u001b[39m\u001b[38;5;124m'\u001b[39m]\n\u001b[0;32m     89\u001b[0m     \u001b[38;5;28;01mfor\u001b[39;00m _, user \u001b[38;5;129;01min\u001b[39;00m usernames\u001b[38;5;241m.\u001b[39mitems():\n\u001b[0;32m     90\u001b[0m         password \u001b[38;5;241m=\u001b[39m user[\u001b[38;5;124m'\u001b[39m\u001b[38;5;124mpassword\u001b[39m\u001b[38;5;124m'\u001b[39m]\n",
      "\u001b[1;31mTypeError\u001b[0m: list indices must be integers or slices, not str"
     ]
    }
   ],
   "source": [
    "from streamlit_authenticator.utilities import Hasher\n",
    "\n",
    "# We will use 'pass123' as the password for all our demo users.\n",
    "hashed_passwords = Hasher.hash_passwords(['pass123'])\n",
    "\n",
    "print(\"Copy this entire line (including the brackets and quotes):\")\n",
    "print(hashed_passwords)"
   ]
  },
  {
   "cell_type": "code",
   "execution_count": 6,
   "id": "c511b07d",
   "metadata": {},
   "outputs": [
    {
     "name": "stdout",
     "output_type": "stream",
     "text": [
      "Copy this entire string (including the quotes):\n",
      "'$2b$12$pU.rsS9V1QRHU9lqa3n3Eepwe5MrfdQb7RAhwyZyviZ8gEMF71kNu'\n"
     ]
    }
   ],
   "source": [
    "from streamlit_authenticator.utilities import Hasher\n",
    "\n",
    "# Use Hasher.hash() for a single password string\n",
    "hashed_password = Hasher.hash('pass123')\n",
    "\n",
    "print(\"Copy this entire string (including the quotes):\")\n",
    "# We print it with quotes to make it easy to copy and paste directly into the YAML file\n",
    "print(f\"'{hashed_password}'\")"
   ]
  },
  {
   "cell_type": "code",
   "execution_count": 1,
   "id": "3700fd88",
   "metadata": {},
   "outputs": [
    {
     "name": "stdout",
     "output_type": "stream",
     "text": [
      "Loading data from your CLEANED database...\n",
      "Preparing data...\n",
      "Building the model...\n",
      "Training the new model on the clean data... This will take a few minutes...\n",
      "Epoch 1/10\n",
      "\u001b[1m65/65\u001b[0m \u001b[32m━━━━━━━━━━━━━━━━━━━━\u001b[0m\u001b[37m\u001b[0m \u001b[1m1s\u001b[0m 2ms/step - loss: 5.7283  \n",
      "Epoch 2/10\n",
      "\u001b[1m65/65\u001b[0m \u001b[32m━━━━━━━━━━━━━━━━━━━━\u001b[0m\u001b[37m\u001b[0m \u001b[1m0s\u001b[0m 2ms/step - loss: 0.8519\n",
      "Epoch 3/10\n",
      "\u001b[1m65/65\u001b[0m \u001b[32m━━━━━━━━━━━━━━━━━━━━\u001b[0m\u001b[37m\u001b[0m \u001b[1m0s\u001b[0m 2ms/step - loss: 0.7072\n",
      "Epoch 4/10\n",
      "\u001b[1m65/65\u001b[0m \u001b[32m━━━━━━━━━━━━━━━━━━━━\u001b[0m\u001b[37m\u001b[0m \u001b[1m0s\u001b[0m 2ms/step - loss: 0.6623\n",
      "Epoch 5/10\n",
      "\u001b[1m65/65\u001b[0m \u001b[32m━━━━━━━━━━━━━━━━━━━━\u001b[0m\u001b[37m\u001b[0m \u001b[1m0s\u001b[0m 2ms/step - loss: 0.6428\n",
      "Epoch 6/10\n",
      "\u001b[1m65/65\u001b[0m \u001b[32m━━━━━━━━━━━━━━━━━━━━\u001b[0m\u001b[37m\u001b[0m \u001b[1m0s\u001b[0m 1ms/step - loss: 0.6263\n",
      "Epoch 7/10\n",
      "\u001b[1m65/65\u001b[0m \u001b[32m━━━━━━━━━━━━━━━━━━━━\u001b[0m\u001b[37m\u001b[0m \u001b[1m0s\u001b[0m 2ms/step - loss: 0.6165\n",
      "Epoch 8/10\n",
      "\u001b[1m65/65\u001b[0m \u001b[32m━━━━━━━━━━━━━━━━━━━━\u001b[0m\u001b[37m\u001b[0m \u001b[1m0s\u001b[0m 2ms/step - loss: 0.6063\n",
      "Epoch 9/10\n",
      "\u001b[1m65/65\u001b[0m \u001b[32m━━━━━━━━━━━━━━━━━━━━\u001b[0m\u001b[37m\u001b[0m \u001b[1m0s\u001b[0m 2ms/step - loss: 0.5974\n",
      "Epoch 10/10\n",
      "\u001b[1m65/65\u001b[0m \u001b[32m━━━━━━━━━━━━━━━━━━━━\u001b[0m\u001b[37m\u001b[0m \u001b[1m0s\u001b[0m 2ms/step - loss: 0.5829\n",
      "Model training complete!\n",
      "Saving new model and data mappings...\n",
      "\n",
      "--- SUCCESS! ---\n",
      "Your AI has been retrained on your curated database.\n"
     ]
    }
   ],
   "source": [
    "import pandas as pd\n",
    "import numpy as np\n",
    "import sqlite3\n",
    "import json\n",
    "from tensorflow.keras.models import Model\n",
    "from tensorflow.keras.layers import Input, Embedding, Flatten, Concatenate, Dense\n",
    "from tensorflow.keras.optimizers import Adam\n",
    "\n",
    "print(\"Loading data from your CLEANED database...\")\n",
    "con = sqlite3.connect('movies.db')\n",
    "ratings_df = pd.read_sql_query(\"SELECT * FROM ratings\", con)\n",
    "movies_df = pd.read_sql_query(\"SELECT * FROM movies\", con)\n",
    "con.close()\n",
    "\n",
    "# --- Final Data Consistency Check ---\n",
    "valid_movie_ids = movies_df['movieId'].unique()\n",
    "ratings_df = ratings_df[ratings_df['movieId'].isin(valid_movie_ids)]\n",
    "\n",
    "# --- Prepare Data for Deep Learning ---\n",
    "print(\"Preparing data...\")\n",
    "user_ids = ratings_df['userId'].unique().tolist()\n",
    "movie_ids = ratings_df['movieId'].unique().tolist()\n",
    "\n",
    "user_to_index = {original_id: i for i, original_id in enumerate(user_ids)}\n",
    "movie_to_index = {original_id: i for i, original_id in enumerate(movie_ids)}\n",
    "\n",
    "ratings_df['user_index'] = ratings_df['userId'].map(user_to_index)\n",
    "ratings_df['movie_index'] = ratings_df['movieId'].map(movie_to_index)\n",
    "\n",
    "n_users = len(user_to_index)\n",
    "n_movies = len(movie_to_index)\n",
    "\n",
    "X = ratings_df[['user_index', 'movie_index']].values\n",
    "y = ratings_df['rating'].values\n",
    "\n",
    "# --- Build the Model Architecture ---\n",
    "print(\"Building the model...\")\n",
    "embedding_size = 50\n",
    "user_input = Input(shape=[1], name='UserInput')\n",
    "# ... (rest of model architecture) ...\n",
    "user_embedding = Embedding(input_dim=n_users, output_dim=embedding_size, name='UserEmbedding')(user_input)\n",
    "user_vec = Flatten()(user_embedding)\n",
    "movie_input = Input(shape=[1], name='MovieInput')\n",
    "movie_embedding = Embedding(input_dim=n_movies, output_dim=embedding_size, name='MovieEmbedding')(movie_input)\n",
    "movie_vec = Flatten()(movie_embedding)\n",
    "concat = Concatenate()([user_vec, movie_vec])\n",
    "dense = Dense(128, activation='relu')(concat)\n",
    "dense = Dense(64, activation='relu')(dense)\n",
    "output = Dense(1, name='Output')(dense)\n",
    "model = Model([user_input, movie_input], output)\n",
    "model.compile(optimizer=Adam(learning_rate=0.001), loss='mean_squared_error')\n",
    "\n",
    "# --- Train the Model ---\n",
    "print(\"Training the new model on the clean data... This will take a few minutes...\")\n",
    "model.fit(x=[X[:, 0], X[:, 1]], y=y, epochs=10, batch_size=128, verbose=1)\n",
    "print(\"Model training complete!\")\n",
    "\n",
    "# --- SAVE EVERYTHING TO FILES ---\n",
    "print(\"Saving new model and data mappings...\")\n",
    "\n",
    "model.save('recommender_model.keras')\n",
    "\n",
    "user_to_index_str = {str(k): v for k, v in user_to_index.items()}\n",
    "with open('user_to_index.json', 'w') as f:\n",
    "    json.dump(user_to_index_str, f)\n",
    "\n",
    "movie_to_index_str = {str(k): v for k, v in movie_to_index.items()}\n",
    "with open('movie_to_index.json', 'w') as f:\n",
    "    json.dump(movie_to_index_str, f)\n",
    "\n",
    "print(\"\\n--- SUCCESS! ---\")\n",
    "print(\"Your AI has been retrained on your curated database.\")"
   ]
  },
  {
   "cell_type": "code",
   "execution_count": null,
   "id": "537fb378",
   "metadata": {},
   "outputs": [],
   "source": []
  }
 ],
 "metadata": {
  "kernelspec": {
   "display_name": "base",
   "language": "python",
   "name": "python3"
  },
  "language_info": {
   "codemirror_mode": {
    "name": "ipython",
    "version": 3
   },
   "file_extension": ".py",
   "mimetype": "text/x-python",
   "name": "python",
   "nbconvert_exporter": "python",
   "pygments_lexer": "ipython3",
   "version": "3.13.5"
  }
 },
 "nbformat": 4,
 "nbformat_minor": 5
}
